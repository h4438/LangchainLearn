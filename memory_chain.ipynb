{
 "cells": [
  {
   "cell_type": "markdown",
   "id": "c94ba4ce-8be1-4058-ad43-9c645321fdc2",
   "metadata": {},
   "source": [
    "# Memory"
   ]
  },
  {
   "cell_type": "code",
   "execution_count": 9,
   "id": "fc71c276-ba4a-4117-b548-47ae4ea688a7",
   "metadata": {},
   "outputs": [
    {
     "data": {
      "text/plain": [
       "{'history': 'Human: hi! My name is Hieu\\nAI: whats up? Mine is AI'}"
      ]
     },
     "execution_count": 9,
     "metadata": {},
     "output_type": "execute_result"
    }
   ],
   "source": [
    "from langchain.memory import ChatMessageHistory\n",
    "\n",
    "history = ChatMessageHistory()\n",
    "history.add_user_message(\"hi!\")\n",
    "history.add_ai_message(\"whats up?\")\n",
    "\n",
    "from langchain.memory import ConversationBufferMemory\n",
    "\n",
    "memory = ConversationBufferMemory()\n",
    "memory.chat_memory.add_user_message(\"hi! My name is Hieu\")\n",
    "memory.chat_memory.add_ai_message(\"whats up? Mine is AI\")\n",
    "memory.load_memory_variables({})"
   ]
  },
  {
   "cell_type": "code",
   "execution_count": 10,
   "id": "82153309-8d86-447f-9600-fd86d5cec703",
   "metadata": {},
   "outputs": [
    {
     "name": "stdout",
     "output_type": "stream",
     "text": [
      "OPENAI ready\n",
      "Enable tracing at mem_chat\n"
     ]
    }
   ],
   "source": [
    "import sys\n",
    "sys.path.append('../src')\n",
    "from setup import get_openai_model, enable_tracing\n",
    "from langchain.chains import ConversationChain\n",
    "\n",
    "from langchain.memory import ConversationBufferMemory\n",
    "\n",
    "MODEL = get_openai_model()\n",
    "enable_tracing('mem_chat')\n",
    "conversation = ConversationChain(\n",
    "    llm=MODEL,\n",
    "    verbose=True,\n",
    "    memory=memory\n",
    ")"
   ]
  },
  {
   "cell_type": "code",
   "execution_count": 11,
   "id": "04760292-4a0b-4663-8c4e-5de7dd6dfb38",
   "metadata": {},
   "outputs": [
    {
     "name": "stdout",
     "output_type": "stream",
     "text": [
      "\n",
      "\n",
      "\u001b[1m> Entering new  chain...\u001b[0m\n",
      "Prompt after formatting:\n",
      "\u001b[32;1m\u001b[1;3mThe following is a friendly conversation between a human and an AI. The AI is talkative and provides lots of specific details from its context. If the AI does not know the answer to a question, it truthfully says it does not know.\n",
      "\n",
      "Current conversation:\n",
      "Human: hi! My name is Hieu\n",
      "AI: whats up? Mine is AI\n",
      "Human: Do you remember my name. If so, write a short text about it\n",
      "AI:\u001b[0m\n",
      "\n",
      "\u001b[1m> Finished chain.\u001b[0m\n"
     ]
    },
    {
     "data": {
      "text/plain": [
       "\" Yes, I remember your name is Hieu. It's a pleasure to meet you, Hieu. I'm looking forward to getting to know you better.\""
      ]
     },
     "execution_count": 11,
     "metadata": {},
     "output_type": "execute_result"
    }
   ],
   "source": [
    "q = \"Do you remember my name. If so, write a short text about it\"\n",
    "ans = conversation.predict(input=q)\n",
    "ans"
   ]
  },
  {
   "cell_type": "markdown",
   "id": "bdefa860-969a-4b52-a59f-53b31d9aa2bc",
   "metadata": {},
   "source": [
    "# Hand-Test"
   ]
  },
  {
   "cell_type": "code",
   "execution_count": 12,
   "id": "c541c527-1dfd-4de6-a6ab-11872c089150",
   "metadata": {},
   "outputs": [],
   "source": [
    "memory = ConversationBufferMemory()\n",
    "memory.chat_memory.add_user_message(\"I just watched 2 videos yesterday\")\n",
    "memory.chat_memory.add_ai_message(\"Wow! What are they about?\")\n",
    "memory.chat_memory.add_user_message(\"The first one is about a cat doing a jump trick, but in the end he fell down. What's more supprising is that he still doing good after the fall.\")\n",
    "memory.chat_memory.add_user_message(\"The second one is about a bady lion hunted his first prey. It was a small rabbit, but the chase was intense.\")\n",
    "\n",
    "chat_bot = ConversationChain(llm=MODEL, verbose=True, memory=memory)"
   ]
  },
  {
   "cell_type": "code",
   "execution_count": 13,
   "id": "3890dee2-9847-492e-9ab8-e1378cccec87",
   "metadata": {},
   "outputs": [
    {
     "name": "stdout",
     "output_type": "stream",
     "text": [
      "\n",
      "\n",
      "\u001b[1m> Entering new  chain...\u001b[0m\n",
      "Prompt after formatting:\n",
      "\u001b[32;1m\u001b[1;3mThe following is a friendly conversation between a human and an AI. The AI is talkative and provides lots of specific details from its context. If the AI does not know the answer to a question, it truthfully says it does not know.\n",
      "\n",
      "Current conversation:\n",
      "Human: I just watched 2 videos yesterday\n",
      "AI: Wow! What are they about?\n",
      "Human: The first one is about a cat doing a jump trick, but in the end he fell down. What's more supprising is that he still doing good after the fall.\n",
      "Human: The second one is about a bady lion hunted his first prey. It was a small rabbit, but the chase was intense.\n",
      "Human: Can you share your view on 2 videos I told\n",
      "AI:\u001b[0m\n",
      "\n",
      "\u001b[1m> Finished chain.\u001b[0m\n"
     ]
    },
    {
     "data": {
      "text/plain": [
       "\" That sounds like an interesting pair of videos! It's amazing that the cat was able to recover from the fall and still do the trick. It's also impressive that the baby lion was able to successfully hunt its first prey. It's a reminder of the power of nature and the strength of animals.\""
      ]
     },
     "execution_count": 13,
     "metadata": {},
     "output_type": "execute_result"
    }
   ],
   "source": [
    "q = \"Can you share your view on 2 videos I told\"\n",
    "ans = chat_bot.predict(input=q)\n",
    "ans"
   ]
  },
  {
   "cell_type": "markdown",
   "id": "f58c3542-1bb6-400c-8bc2-55fe4efb4d15",
   "metadata": {},
   "source": [
    "# Agent-Chat"
   ]
  },
  {
   "cell_type": "code",
   "execution_count": 14,
   "id": "19ab70e1-5c71-471d-9e2c-74f403fda4dd",
   "metadata": {},
   "outputs": [],
   "source": [
    "from langchain.agents import ZeroShotAgent, Tool, AgentExecutor\n",
    "from langchain.memory import ConversationBufferMemory\n",
    "from langchain import OpenAI, LLMChain\n",
    "from langchain.tools import DuckDuckGoSearchRun\n",
    "\n",
    "search = DuckDuckGoSearchRun()\n",
    "tools = [\n",
    "    Tool(\n",
    "        name=\"Search\",\n",
    "        func=search.run,\n",
    "        description=\"useful for when you need to answer questions about current events\",\n",
    "    )\n",
    "]"
   ]
  },
  {
   "cell_type": "code",
   "execution_count": 16,
   "id": "0b497fcd-a0f5-4dba-b332-e7185a051ded",
   "metadata": {},
   "outputs": [],
   "source": [
    "prefix = \"\"\"Have a conversation with a human, answering the following questions as best you can.\n",
    "You have access to the following tools:\"\"\"\n",
    "suffix = \"\"\"Begin!\"\n",
    "{chat_history}\n",
    "Question: {input}\n",
    "{agent_scratchpad}\"\"\"\n",
    "\n",
    "prompt = ZeroShotAgent.create_prompt(\n",
    "    tools,\n",
    "    prefix=prefix,\n",
    "    suffix=suffix,\n",
    "    input_variables=[\"input\", \"chat_history\", \"agent_scratchpad\"],\n",
    ")\n",
    "memory = ConversationBufferMemory(memory_key=\"chat_history\")\n",
    "memory.chat_memory.add_user_message(\"I just watched 2 videos yesterday\")\n",
    "memory.chat_memory.add_ai_message(\"Wow! What are they about?\")\n",
    "memory.chat_memory.add_user_message(\"The first one is about a cat doing a jump trick, but in the end he fell down. What's more supprising is that he still doing good after the fall.\")\n",
    "memory.chat_memory.add_user_message(\"The second one is about a bady lion hunted his first prey. It was a small rabbit, but the chase was intense.\")"
   ]
  },
  {
   "cell_type": "code",
   "execution_count": 19,
   "id": "ac861711-7de0-474f-a729-0b64d826b9e9",
   "metadata": {},
   "outputs": [],
   "source": [
    "llm_chain = LLMChain(llm=MODEL, prompt=prompt)\n",
    "\n",
    "agent = ZeroShotAgent(llm_chain=llm_chain, tools=tools, verbose=True)\n",
    "\n",
    "agent_chain = AgentExecutor.from_agent_and_tools(\n",
    "    agent=agent, tools=tools, verbose=True, memory=memory\n",
    ")"
   ]
  },
  {
   "cell_type": "code",
   "execution_count": 22,
   "id": "e1345972-a564-4e0e-8426-543716ba559b",
   "metadata": {},
   "outputs": [
    {
     "name": "stdout",
     "output_type": "stream",
     "text": [
      "\n",
      "\n",
      "\u001b[1m> Entering new  chain...\u001b[0m\n",
      "\u001b[32;1m\u001b[1;3mThought: I should try to recall the information\n",
      "Action: Search\n",
      "Action Input: Information about the first animal in the video\u001b[0m\n",
      "Observation: \u001b[36;1m\u001b[1;3mDo you ever wonder what the first animal on earth looked like? What did they do? How did they live? Join Stefan Chin for a fun new episode of SciShow that ta... Go to https://curiositystream.thld.co/historyoftheearth_1122 and use code HISTORYOFTHEEARTH to save 25% off today, that's only $14.99 a year. Thanks to Curio... Evolution The Closest Living Relative of the First Animal Has Finally Been Found A debate has been settled over the earliest animal ancestor—a free-swimming creature with a well-developed... BERKELEY, Calif. — Scientists believe they've identified the first animal to appear on Earth: a peculiar jellyfish-like creature. Researchers say all species evolved from a single common ancestor that lived as far back as 700 million years ago. These include creatures as diverse as sponges, insects, sharks, and humans. The study's findings were recently published in the journal Global Change Biology . The fossil record dates the first animal life on Earth around 572-602 million years ago, right as the earth emerged from a massive ice age, although molecular studies suggest an earlier beginning, up to 850 million years ago. If true, this implies that animals ...\u001b[0m\n",
      "Thought:\u001b[32;1m\u001b[1;3m I now know the final answer\n",
      "Final Answer: The first animal in the video was a comb jellyfish.\u001b[0m\n",
      "\n",
      "\u001b[1m> Finished chain.\u001b[0m\n"
     ]
    },
    {
     "data": {
      "text/plain": [
       "'The first animal in the video was a comb jellyfish.'"
      ]
     },
     "execution_count": 22,
     "metadata": {},
     "output_type": "execute_result"
    }
   ],
   "source": [
    "q = \"Can you remember what I have told you\"\n",
    "ans = agent_chain.run(input=q)\n",
    "ans"
   ]
  },
  {
   "cell_type": "markdown",
   "id": "eccdf9b4-aabc-42f6-9295-96cfd145f17e",
   "metadata": {},
   "source": [
    "# Attempt 1: Load transcript from database to string and put it into memory "
   ]
  },
  {
   "cell_type": "code",
   "execution_count": 1,
   "id": "6f7495cd-60d3-4ead-8f7a-9b81512108fe",
   "metadata": {},
   "outputs": [
    {
     "data": {
      "text/plain": [
       "\"python a high-level interpretedprogramming language famous for itszen-like code it's arguably the mostpopular language in the world becauseit's easy to learn yet practical forserious projects in fact you're watchingthis youtube video in a python webapplication right now it was created byguido van rossum and released in 1991who named it after monty python's flyingcircus which is why you'll sometimesfind spam and eggs instead of foo andbar in code samples it's commonly usedto build server-side applications likeweb apps with the django framework andis the language of choice for big dataanalysis and machine learning manystudents choose python to start learningto code because of its emphasis onreadability as outlined by the zen ofpython beautiful is better than uglywhile explicit is better than implicitpython is very simple but avoids thetemptation to sprinkle in magic thatcauses ambiguity its code is oftenorganized into notebooks whereindividual cells can be executed thendocumented in the same place we'recurrently at version 3 of the languageand you can get started by creating afile that ends in py or ipymb to createan interactive notebook create avariable by setting a name equal to avalue it's strongly typed which meansvalues won't change in unexpected waysbut dynamic so type annotations are notrequired the syntax is highly efficientallowing you to declare multiplevariables on a single line and definetuples lists and dictionaries with aliteral syntax semicolons are notrequired and if you use them andexperience pythonista will say that yourcode is not pythonic instead ofsemicolons python uses indentation toterminate or determine the scope of aline of code define a function with thedef keyword then indent the next lineusually by four spaces to define thefunction body we might then add a forloop to it and indent that by anotherfour spaces this eliminates the need forcurly braces and semicolons found inmany other languages python is amulti-paradigm language we can applyfunctional programming patterns withthings like anonymous functions usinglambda it also uses objects as anabstraction for data allowing you toimplement object-oriented patterns withthings like classes and inheritance italso has a huge ecosystem of third-partylibraries such as deep learningframeworks like tensorflow and wrappersfor many high performance low levelpackages like open computer vision whichare most often installed with the pippackage manager this has been the pythonprogramming language in 100 seconds hitthe like button if you want to see moreshort videos like this thanks forwatching and i will see you in the nextone\""
      ]
     },
     "execution_count": 1,
     "metadata": {},
     "output_type": "execute_result"
    }
   ],
   "source": [
    "videos = []\n",
    "links = ['python_transcript.txt','redis_transcript.txt']\n",
    "for link in links:\n",
    "    f = open(f\"data/{link}\", \"r\")\n",
    "    videos.append(f.read().replace('\\n',''))\n",
    "videos[0]"
   ]
  },
  {
   "cell_type": "code",
   "execution_count": 2,
   "id": "7e3c68e7-da70-4836-8a11-77c1f4b288bc",
   "metadata": {},
   "outputs": [
    {
     "ename": "NameError",
     "evalue": "name 'MODEL' is not defined",
     "output_type": "error",
     "traceback": [
      "\u001b[0;31m---------------------------------------------------------------------------\u001b[0m",
      "\u001b[0;31mNameError\u001b[0m                                 Traceback (most recent call last)",
      "\u001b[0;32m/tmp/ipykernel_4340/3965212722.py\u001b[0m in \u001b[0;36m<module>\u001b[0;34m\u001b[0m\n\u001b[1;32m      6\u001b[0m \u001b[0mmemory\u001b[0m\u001b[0;34m.\u001b[0m\u001b[0mchat_memory\u001b[0m\u001b[0;34m.\u001b[0m\u001b[0madd_ai_message\u001b[0m\u001b[0;34m(\u001b[0m\u001b[0;34m\"Wow! What are they about?\"\u001b[0m\u001b[0;34m)\u001b[0m\u001b[0;34m\u001b[0m\u001b[0;34m\u001b[0m\u001b[0m\n\u001b[1;32m      7\u001b[0m \u001b[0;34m[\u001b[0m\u001b[0mmemory\u001b[0m\u001b[0;34m.\u001b[0m\u001b[0mchat_memory\u001b[0m\u001b[0;34m.\u001b[0m\u001b[0madd_user_message\u001b[0m\u001b[0;34m(\u001b[0m\u001b[0mv\u001b[0m\u001b[0;34m)\u001b[0m \u001b[0;32mfor\u001b[0m \u001b[0mv\u001b[0m \u001b[0;32min\u001b[0m \u001b[0mvideos\u001b[0m\u001b[0;34m]\u001b[0m\u001b[0;34m\u001b[0m\u001b[0;34m\u001b[0m\u001b[0m\n\u001b[0;32m----> 8\u001b[0;31m \u001b[0mchat_bot\u001b[0m \u001b[0;34m=\u001b[0m \u001b[0mConversationChain\u001b[0m\u001b[0;34m(\u001b[0m\u001b[0mllm\u001b[0m\u001b[0;34m=\u001b[0m\u001b[0mMODEL\u001b[0m\u001b[0;34m,\u001b[0m \u001b[0mverbose\u001b[0m\u001b[0;34m=\u001b[0m\u001b[0;32mTrue\u001b[0m\u001b[0;34m,\u001b[0m \u001b[0mmemory\u001b[0m\u001b[0;34m=\u001b[0m\u001b[0mmemory\u001b[0m\u001b[0;34m)\u001b[0m\u001b[0;34m\u001b[0m\u001b[0;34m\u001b[0m\u001b[0m\n\u001b[0m",
      "\u001b[0;31mNameError\u001b[0m: name 'MODEL' is not defined"
     ]
    }
   ],
   "source": [
    "from langchain.chains import ConversationChain\n",
    "from langchain.memory import ConversationBufferMemory\n",
    "\n",
    "memory = ConversationBufferMemory()\n",
    "memory.chat_memory.add_user_message(\"I just watched 2 videos yesterday\")\n",
    "memory.chat_memory.add_ai_message(\"Wow! What are they about?\")\n",
    "[memory.chat_memory.add_user_message(v) for v in videos]\n",
    "chat_bot = ConversationChain(llm=MODEL, verbose=True, memory=memory)"
   ]
  },
  {
   "cell_type": "code",
   "execution_count": 34,
   "id": "cc0fd907-6dd9-488b-9081-440a874b1289",
   "metadata": {},
   "outputs": [
    {
     "data": {
      "text/plain": [
       "HumanMessage(content=\"python a high-level interpretedprogramming language famous for itszen-like code it's arguably the mostpopular language in the world becauseit's easy to learn yet practical forserious projects in fact you're watchingthis youtube video in a python webapplication right now it was created byguido van rossum and released in 1991who named it after monty python's flyingcircus which is why you'll sometimesfind spam and eggs instead of foo andbar in code samples it's commonly usedto build server-side applications likeweb apps with the django framework andis the language of choice for big dataanalysis and machine learning manystudents choose python to start learningto code because of its emphasis onreadability as outlined by the zen ofpython beautiful is better than uglywhile explicit is better than implicitpython is very simple but avoids thetemptation to sprinkle in magic thatcauses ambiguity its code is oftenorganized into notebooks whereindividual cells can be executed thendocumented in the same place we'recurrently at version 3 of the languageand you can get started by creating afile that ends in py or ipymb to createan interactive notebook create avariable by setting a name equal to avalue it's strongly typed which meansvalues won't change in unexpected waysbut dynamic so type annotations are notrequired the syntax is highly efficientallowing you to declare multiplevariables on a single line and definetuples lists and dictionaries with aliteral syntax semicolons are notrequired and if you use them andexperience pythonista will say that yourcode is not pythonic instead ofsemicolons python uses indentation toterminate or determine the scope of aline of code define a function with thedef keyword then indent the next lineusually by four spaces to define thefunction body we might then add a forloop to it and indent that by anotherfour spaces this eliminates the need forcurly braces and semicolons found inmany other languages python is amulti-paradigm language we can applyfunctional programming patterns withthings like anonymous functions usinglambda it also uses objects as anabstraction for data allowing you toimplement object-oriented patterns withthings like classes and inheritance italso has a huge ecosystem of third-partylibraries such as deep learningframeworks like tensorflow and wrappersfor many high performance low levelpackages like open computer vision whichare most often installed with the pippackage manager this has been the pythonprogramming language in 100 seconds hitthe like button if you want to see moreshort videos like this thanks forwatching and i will see you in the nextone\", additional_kwargs={}, example=False)"
      ]
     },
     "execution_count": 34,
     "metadata": {},
     "output_type": "execute_result"
    }
   ],
   "source": [
    "memory.chat_memory.messages[2]"
   ]
  },
  {
   "cell_type": "code",
   "execution_count": 35,
   "id": "1d08c87f-ed5e-4056-8a76-6570ce97fcec",
   "metadata": {},
   "outputs": [
    {
     "name": "stdout",
     "output_type": "stream",
     "text": [
      "\n",
      "\n",
      "\u001b[1m> Entering new  chain...\u001b[0m\n",
      "Prompt after formatting:\n",
      "\u001b[32;1m\u001b[1;3mThe following is a friendly conversation between a human and an AI. The AI is talkative and provides lots of specific details from its context. If the AI does not know the answer to a question, it truthfully says it does not know.\n",
      "\n",
      "Current conversation:\n",
      "Human: I just watched 2 videos yesterday\n",
      "AI: Wow! What are they about?\n",
      "Human: python a high-level interpretedprogramming language famous for itszen-like code it's arguably the mostpopular language in the world becauseit's easy to learn yet practical forserious projects in fact you're watchingthis youtube video in a python webapplication right now it was created byguido van rossum and released in 1991who named it after monty python's flyingcircus which is why you'll sometimesfind spam and eggs instead of foo andbar in code samples it's commonly usedto build server-side applications likeweb apps with the django framework andis the language of choice for big dataanalysis and machine learning manystudents choose python to start learningto code because of its emphasis onreadability as outlined by the zen ofpython beautiful is better than uglywhile explicit is better than implicitpython is very simple but avoids thetemptation to sprinkle in magic thatcauses ambiguity its code is oftenorganized into notebooks whereindividual cells can be executed thendocumented in the same place we'recurrently at version 3 of the languageand you can get started by creating afile that ends in py or ipymb to createan interactive notebook create avariable by setting a name equal to avalue it's strongly typed which meansvalues won't change in unexpected waysbut dynamic so type annotations are notrequired the syntax is highly efficientallowing you to declare multiplevariables on a single line and definetuples lists and dictionaries with aliteral syntax semicolons are notrequired and if you use them andexperience pythonista will say that yourcode is not pythonic instead ofsemicolons python uses indentation toterminate or determine the scope of aline of code define a function with thedef keyword then indent the next lineusually by four spaces to define thefunction body we might then add a forloop to it and indent that by anotherfour spaces this eliminates the need forcurly braces and semicolons found inmany other languages python is amulti-paradigm language we can applyfunctional programming patterns withthings like anonymous functions usinglambda it also uses objects as anabstraction for data allowing you toimplement object-oriented patterns withthings like classes and inheritance italso has a huge ecosystem of third-partylibraries such as deep learningframeworks like tensorflow and wrappersfor many high performance low levelpackages like open computer vision whichare most often installed with the pippackage manager this has been the pythonprogramming language in 100 seconds hitthe like button if you want to see moreshort videos like this thanks forwatching and i will see you in the nextone\n",
      "Human: redis an in-memory multi-model databasefamous for its sub-millisecond latencyit was created in 2009 based on the ideathat a cache can also be a durable datastorearound this time apps like twitter weregrowing exponentially and needed a wayto deliver data to their end usersfaster than a relational database couldhandleredis which means remote dictionaryserver was adopted by some of the mostheavily trafficked sites in the worldbecause it changed the database game bycreating a system where data is alwaysmodified or read from the main computermemoryas opposed to the much slower disk butat the same timeit stores its data on the disk so it canbe reconstructedas needed which means the database isfully durable supporting things likesnapshots and backups every data pointin the database is a keyfollowed by one of many different datastructures like a stringlist hash or stream so you can storedata naturally just like you would withyour favorite programming language asopposed to squeezing it into a bunch oftables or json documentsinteracting with the database is handledwith a simple set of commandslike set followed by a key and value tocreate datathen git followed by a key to read datahistoricallyredis has been described as a key valuestore and is often used as a cache tomake relational databases faster atscalebut here's where your mind is about tobe blown redis is perfectly suitable asa primary databaseand can dramatically reduce complexitybecause making things go fast at scaleis the primary cause of complexity inthe first place with redis your databaseis already fastno need for a complex caching layer butyou might be wonderinghow do i model complex relationshipstoday redis is what you would calla multi-model database supporting avariety of different database paradigmswithadd-on modules that you can opt into asneeded if your data containsrelationships bring in redis graphand query it with cipher or use the jsonmodule to structure your data as ahierarchyjust like a document-oriented databasethen use the search moduleto turn your database into a full textsearch engine and it even has modulesfor ai workloads time series dataand more the quickest way to get startedis the free tier on redis enterprisecloud that'll give you a free databaseto play around with and you can attachone extra module to it then you canconnect to it with the redis cli or withthe redis insight tool which contains aninteractive dashboard to manage yourdata this has been redis in 100 secondsbut what do you guys think would you useredis as your primary database let meknow why or why notin the comments thanks for watching andi will see you in the next one\n",
      "Human: What was the first video about?\n",
      "AI:\u001b[0m\n",
      "\n",
      "\u001b[1m> Finished chain.\u001b[0m\n"
     ]
    },
    {
     "data": {
      "text/plain": [
       "' The first video was about the Python programming language. It discussed its history, features, and syntax. It also highlighted its popularity and ease of use, as well as its use in server-side applications, big data analysis, and machine learning.'"
      ]
     },
     "execution_count": 35,
     "metadata": {},
     "output_type": "execute_result"
    }
   ],
   "source": [
    "q = \"What was the first video about?\"\n",
    "ans = chat_bot.predict(input=q)\n",
    "ans"
   ]
  },
  {
   "cell_type": "code",
   "execution_count": 36,
   "id": "e686e29f-88b1-4dff-9056-841cc67381c4",
   "metadata": {},
   "outputs": [
    {
     "name": "stdout",
     "output_type": "stream",
     "text": [
      "\n",
      "\n",
      "\u001b[1m> Entering new  chain...\u001b[0m\n",
      "Prompt after formatting:\n",
      "\u001b[32;1m\u001b[1;3mThe following is a friendly conversation between a human and an AI. The AI is talkative and provides lots of specific details from its context. If the AI does not know the answer to a question, it truthfully says it does not know.\n",
      "\n",
      "Current conversation:\n",
      "Human: I just watched 2 videos yesterday\n",
      "AI: Wow! What are they about?\n",
      "Human: python a high-level interpretedprogramming language famous for itszen-like code it's arguably the mostpopular language in the world becauseit's easy to learn yet practical forserious projects in fact you're watchingthis youtube video in a python webapplication right now it was created byguido van rossum and released in 1991who named it after monty python's flyingcircus which is why you'll sometimesfind spam and eggs instead of foo andbar in code samples it's commonly usedto build server-side applications likeweb apps with the django framework andis the language of choice for big dataanalysis and machine learning manystudents choose python to start learningto code because of its emphasis onreadability as outlined by the zen ofpython beautiful is better than uglywhile explicit is better than implicitpython is very simple but avoids thetemptation to sprinkle in magic thatcauses ambiguity its code is oftenorganized into notebooks whereindividual cells can be executed thendocumented in the same place we'recurrently at version 3 of the languageand you can get started by creating afile that ends in py or ipymb to createan interactive notebook create avariable by setting a name equal to avalue it's strongly typed which meansvalues won't change in unexpected waysbut dynamic so type annotations are notrequired the syntax is highly efficientallowing you to declare multiplevariables on a single line and definetuples lists and dictionaries with aliteral syntax semicolons are notrequired and if you use them andexperience pythonista will say that yourcode is not pythonic instead ofsemicolons python uses indentation toterminate or determine the scope of aline of code define a function with thedef keyword then indent the next lineusually by four spaces to define thefunction body we might then add a forloop to it and indent that by anotherfour spaces this eliminates the need forcurly braces and semicolons found inmany other languages python is amulti-paradigm language we can applyfunctional programming patterns withthings like anonymous functions usinglambda it also uses objects as anabstraction for data allowing you toimplement object-oriented patterns withthings like classes and inheritance italso has a huge ecosystem of third-partylibraries such as deep learningframeworks like tensorflow and wrappersfor many high performance low levelpackages like open computer vision whichare most often installed with the pippackage manager this has been the pythonprogramming language in 100 seconds hitthe like button if you want to see moreshort videos like this thanks forwatching and i will see you in the nextone\n",
      "Human: redis an in-memory multi-model databasefamous for its sub-millisecond latencyit was created in 2009 based on the ideathat a cache can also be a durable datastorearound this time apps like twitter weregrowing exponentially and needed a wayto deliver data to their end usersfaster than a relational database couldhandleredis which means remote dictionaryserver was adopted by some of the mostheavily trafficked sites in the worldbecause it changed the database game bycreating a system where data is alwaysmodified or read from the main computermemoryas opposed to the much slower disk butat the same timeit stores its data on the disk so it canbe reconstructedas needed which means the database isfully durable supporting things likesnapshots and backups every data pointin the database is a keyfollowed by one of many different datastructures like a stringlist hash or stream so you can storedata naturally just like you would withyour favorite programming language asopposed to squeezing it into a bunch oftables or json documentsinteracting with the database is handledwith a simple set of commandslike set followed by a key and value tocreate datathen git followed by a key to read datahistoricallyredis has been described as a key valuestore and is often used as a cache tomake relational databases faster atscalebut here's where your mind is about tobe blown redis is perfectly suitable asa primary databaseand can dramatically reduce complexitybecause making things go fast at scaleis the primary cause of complexity inthe first place with redis your databaseis already fastno need for a complex caching layer butyou might be wonderinghow do i model complex relationshipstoday redis is what you would calla multi-model database supporting avariety of different database paradigmswithadd-on modules that you can opt into asneeded if your data containsrelationships bring in redis graphand query it with cipher or use the jsonmodule to structure your data as ahierarchyjust like a document-oriented databasethen use the search moduleto turn your database into a full textsearch engine and it even has modulesfor ai workloads time series dataand more the quickest way to get startedis the free tier on redis enterprisecloud that'll give you a free databaseto play around with and you can attachone extra module to it then you canconnect to it with the redis cli or withthe redis insight tool which contains aninteractive dashboard to manage yourdata this has been redis in 100 secondsbut what do you guys think would you useredis as your primary database let meknow why or why notin the comments thanks for watching andi will see you in the next one\n",
      "Human: What was the first video about?\n",
      "AI:  The first video was about the Python programming language. It discussed its history, features, and syntax. It also highlighted its popularity and ease of use, as well as its use in server-side applications, big data analysis, and machine learning.\n",
      "Human: Do you think that two technologies in those videos will be forever popular?\n",
      "AI:\u001b[0m\n",
      "\n",
      "\u001b[1m> Finished chain.\u001b[0m\n"
     ]
    },
    {
     "data": {
      "text/plain": [
       "\" I don't know. It's hard to predict the future popularity of any technology. However, Python and Redis have both been around for a while and have been widely adopted, so it's likely that they will remain popular for some time.\""
      ]
     },
     "execution_count": 36,
     "metadata": {},
     "output_type": "execute_result"
    }
   ],
   "source": [
    "q = \"Do you think that two technologies in those videos will be forever popular?\"\n",
    "ans = chat_bot.predict(input=q)\n",
    "ans"
   ]
  },
  {
   "cell_type": "markdown",
   "id": "de8b3bf2-ffc0-4287-972e-f41d3319662e",
   "metadata": {},
   "source": [
    "## Past day conversation"
   ]
  },
  {
   "cell_type": "code",
   "execution_count": 38,
   "id": "e51eeb8c-7318-4e66-8d65-abf00651dd47",
   "metadata": {},
   "outputs": [
    {
     "name": "stdout",
     "output_type": "stream",
     "text": [
      "1\n",
      "2\n"
     ]
    }
   ],
   "source": [
    "from langchain.chains import ConversationChain\n",
    "from langchain.memory import ConversationBufferMemory\n",
    "\n",
    "videos = []\n",
    "links = ['python_transcript.txt','redis_transcript.txt']\n",
    "for link in links:\n",
    "    f = open(f\"data/{link}\", \"r\")\n",
    "    videos.append(f.read().replace('\\n',''))\n",
    "\n",
    "memory = ConversationBufferMemory()\n",
    "for day, video in enumerate(videos,1):\n",
    "    print(day)\n",
    "    memory.chat_memory.add_user_message(f\"The video that I watched on day {day}\")\n",
    "    memory.chat_memory.add_user_message(f\"The video is about: {video}\")\n",
    "\n",
    "chat_bot = ConversationChain(llm=MODEL, verbose=True, memory=memory)"
   ]
  },
  {
   "cell_type": "code",
   "execution_count": 39,
   "id": "af47ce92-217b-4ad2-8d85-bf4f854f2213",
   "metadata": {},
   "outputs": [
    {
     "name": "stdout",
     "output_type": "stream",
     "text": [
      "\n",
      "\n",
      "\u001b[1m> Entering new  chain...\u001b[0m\n",
      "Prompt after formatting:\n",
      "\u001b[32;1m\u001b[1;3mThe following is a friendly conversation between a human and an AI. The AI is talkative and provides lots of specific details from its context. If the AI does not know the answer to a question, it truthfully says it does not know.\n",
      "\n",
      "Current conversation:\n",
      "Human: The video that I watched on day 1\n",
      "Human: The video is about: python a high-level interpretedprogramming language famous for itszen-like code it's arguably the mostpopular language in the world becauseit's easy to learn yet practical forserious projects in fact you're watchingthis youtube video in a python webapplication right now it was created byguido van rossum and released in 1991who named it after monty python's flyingcircus which is why you'll sometimesfind spam and eggs instead of foo andbar in code samples it's commonly usedto build server-side applications likeweb apps with the django framework andis the language of choice for big dataanalysis and machine learning manystudents choose python to start learningto code because of its emphasis onreadability as outlined by the zen ofpython beautiful is better than uglywhile explicit is better than implicitpython is very simple but avoids thetemptation to sprinkle in magic thatcauses ambiguity its code is oftenorganized into notebooks whereindividual cells can be executed thendocumented in the same place we'recurrently at version 3 of the languageand you can get started by creating afile that ends in py or ipymb to createan interactive notebook create avariable by setting a name equal to avalue it's strongly typed which meansvalues won't change in unexpected waysbut dynamic so type annotations are notrequired the syntax is highly efficientallowing you to declare multiplevariables on a single line and definetuples lists and dictionaries with aliteral syntax semicolons are notrequired and if you use them andexperience pythonista will say that yourcode is not pythonic instead ofsemicolons python uses indentation toterminate or determine the scope of aline of code define a function with thedef keyword then indent the next lineusually by four spaces to define thefunction body we might then add a forloop to it and indent that by anotherfour spaces this eliminates the need forcurly braces and semicolons found inmany other languages python is amulti-paradigm language we can applyfunctional programming patterns withthings like anonymous functions usinglambda it also uses objects as anabstraction for data allowing you toimplement object-oriented patterns withthings like classes and inheritance italso has a huge ecosystem of third-partylibraries such as deep learningframeworks like tensorflow and wrappersfor many high performance low levelpackages like open computer vision whichare most often installed with the pippackage manager this has been the pythonprogramming language in 100 seconds hitthe like button if you want to see moreshort videos like this thanks forwatching and i will see you in the nextone\n",
      "Human: The video that I watched on day 2\n",
      "Human: The video is about: redis an in-memory multi-model databasefamous for its sub-millisecond latencyit was created in 2009 based on the ideathat a cache can also be a durable datastorearound this time apps like twitter weregrowing exponentially and needed a wayto deliver data to their end usersfaster than a relational database couldhandleredis which means remote dictionaryserver was adopted by some of the mostheavily trafficked sites in the worldbecause it changed the database game bycreating a system where data is alwaysmodified or read from the main computermemoryas opposed to the much slower disk butat the same timeit stores its data on the disk so it canbe reconstructedas needed which means the database isfully durable supporting things likesnapshots and backups every data pointin the database is a keyfollowed by one of many different datastructures like a stringlist hash or stream so you can storedata naturally just like you would withyour favorite programming language asopposed to squeezing it into a bunch oftables or json documentsinteracting with the database is handledwith a simple set of commandslike set followed by a key and value tocreate datathen git followed by a key to read datahistoricallyredis has been described as a key valuestore and is often used as a cache tomake relational databases faster atscalebut here's where your mind is about tobe blown redis is perfectly suitable asa primary databaseand can dramatically reduce complexitybecause making things go fast at scaleis the primary cause of complexity inthe first place with redis your databaseis already fastno need for a complex caching layer butyou might be wonderinghow do i model complex relationshipstoday redis is what you would calla multi-model database supporting avariety of different database paradigmswithadd-on modules that you can opt into asneeded if your data containsrelationships bring in redis graphand query it with cipher or use the jsonmodule to structure your data as ahierarchyjust like a document-oriented databasethen use the search moduleto turn your database into a full textsearch engine and it even has modulesfor ai workloads time series dataand more the quickest way to get startedis the free tier on redis enterprisecloud that'll give you a free databaseto play around with and you can attachone extra module to it then you canconnect to it with the redis cli or withthe redis insight tool which contains aninteractive dashboard to manage yourdata this has been redis in 100 secondsbut what do you guys think would you useredis as your primary database let meknow why or why notin the comments thanks for watching andi will see you in the next one\n",
      "Human: What did I watch on day 1 and can you tell what is my job based on that\n",
      "AI:\u001b[0m\n",
      "\n",
      "\u001b[1m> Finished chain.\u001b[0m\n"
     ]
    },
    {
     "data": {
      "text/plain": [
       "' On day 1, you watched a video about Python, a high-level interpreted programming language. Based on the video, it appears that you are interested in programming and may have a job related to coding.'"
      ]
     },
     "execution_count": 39,
     "metadata": {},
     "output_type": "execute_result"
    }
   ],
   "source": [
    "q = \"What did I watch on day 1 and can you tell what is my job based on that\"\n",
    "ans = chat_bot.predict(input=q)\n",
    "ans"
   ]
  }
 ],
 "metadata": {
  "kernelspec": {
   "display_name": "Python 3 (ipykernel)",
   "language": "python",
   "name": "python3"
  },
  "language_info": {
   "codemirror_mode": {
    "name": "ipython",
    "version": 3
   },
   "file_extension": ".py",
   "mimetype": "text/x-python",
   "name": "python",
   "nbconvert_exporter": "python",
   "pygments_lexer": "ipython3",
   "version": "3.10.6"
  }
 },
 "nbformat": 4,
 "nbformat_minor": 5
}
