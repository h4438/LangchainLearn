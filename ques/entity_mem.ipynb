{
 "cells": [
  {
   "cell_type": "code",
   "execution_count": 1,
   "id": "a273f882-e899-4beb-8d48-8d1f8a286853",
   "metadata": {},
   "outputs": [
    {
     "name": "stdout",
     "output_type": "stream",
     "text": [
      "Enable tracing at test-deploy\n",
      "OPENAI ready\n"
     ]
    }
   ],
   "source": [
    "from langchain.memory import ConversationEntityMemory\n",
    "import sys\n",
    "import os\n",
    "sys.path.append('../')\n",
    "from setup import trace_openai\n",
    "\n",
    "model = trace_openai()\n",
    "memory = ConversationEntityMemory(llm=model)\n",
    "\n",
    "_input = {\"input\": \"Deven & Sam are working on a hackathon project\"}\n",
    "memory.load_memory_variables(_input)\n",
    "memory.save_context(\n",
    "    _input,\n",
    "    {\"output\": \" That sounds like a great project! What kind of project are they working on?\"}\n",
    ")"
   ]
  },
  {
   "cell_type": "code",
   "execution_count": null,
   "id": "04fd0ac5-c54d-4922-a7b0-c35c13c2124c",
   "metadata": {},
   "outputs": [],
   "source": [
    "memory.load_memory_variables({\"input\": 'who is Sam'})\n"
   ]
  }
 ],
 "metadata": {
  "kernelspec": {
   "display_name": "Python 3 (ipykernel)",
   "language": "python",
   "name": "python3"
  },
  "language_info": {
   "codemirror_mode": {
    "name": "ipython",
    "version": 3
   },
   "file_extension": ".py",
   "mimetype": "text/x-python",
   "name": "python",
   "nbconvert_exporter": "python",
   "pygments_lexer": "ipython3",
   "version": "3.10.6"
  }
 },
 "nbformat": 4,
 "nbformat_minor": 5
}
