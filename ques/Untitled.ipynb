{
 "cells": [
  {
   "cell_type": "code",
   "execution_count": 5,
   "id": "54fbd7fb-ce8d-4173-b51b-194c3cbc1be9",
   "metadata": {},
   "outputs": [
    {
     "name": "stdout",
     "output_type": "stream",
     "text": [
      "Enable tracing at test-deploy\n",
      "OPENAI ready\n"
     ]
    }
   ],
   "source": [
    "import sys\n",
    "import os\n",
    "sys.path.append('../')\n",
    "# sys.path.append(f\"{os.path.dirname(__file__)}/../\")\n",
    "from langchain import LLMChain\n",
    "from langchain.prompts import PromptTemplate\n",
    "from setup import trace_openai\n",
    "\n",
    "MAKE_QUESTION_TEMPLATE = \"\"\"Đưa cho bạn một đoạn văn bản được phân định trong dấu ``` ```\n",
    "    ```\n",
    "    {fact}\n",
    "    ```\n",
    "    Bạn hãy đặt không quá {n_ques} câu hỏi với dạng được liệt kê sau. Hãy nhớ là mỗi dạng có thể có nhiều hơn một câu hỏi:\n",
    "    1. Hỏi về thông tin của một người.\n",
    "    2. Hỏi về sự kiện thời gian.\n",
    "    3. Hỏi về các mối quan hệ giữa những đối tượng trong đoạn văn bản.\n",
    "    4. Hỏi về những đặc trưng.\n",
    "    \n",
    "    Đầu ra của bạn nên là một danh sách theo định dạng sau:\n",
    "    <câu_hỏi>; <câu_trả_lời_đúng>; <trích_dẫn>\n",
    " \"\"\"\n",
    "\n",
    "model = prom\n",
    "inputs = ['fact', 'n_ques']\n",
    "prompt = PromptTemplate(input_variables = inputs, template = MAKE_QUESTION_TEMPLATE)\n",
    "chain = LLMChain(llm = model, prompt = prompt, output_key='result', verbose=True)"
   ]
  },
  {
   "cell_type": "code",
   "execution_count": 6,
   "id": "612a0b52-3729-4374-8281-f18c4a1e0de1",
   "metadata": {},
   "outputs": [
    {
     "name": "stdout",
     "output_type": "stream",
     "text": [
      "\n",
      "\n",
      "\u001b[1m> Entering new  chain...\u001b[0m\n",
      "Prompt after formatting:\n",
      "\u001b[32;1m\u001b[1;3mĐưa cho bạn một đoạn văn bản được phân định trong dấu ``` ```\n",
      "    ```\n",
      "    Hà Nội là thủ đô, thành phố trực thuộc trung ương và là một trong hai đô thị loại đặc biệt, trung tâm văn hóa và giáo dục của nước Cộng hòa Xã hội chủ nghĩa Việt Nam. Hà Nội nằm về phía tây bắc của trung tâm vùng đồng bằng châu thổ sông Hồng, với địa hình bao gồm vùng đồng bằng trung tâm và vùng đồi núi ở phía bắc và phía tây thành phố. Với diện tích 3.359,82 km², và dân số 8,4 triệu người, Hà Nội là thành phố trực thuộc trung ương có diện tích lớn nhất Việt Nam, đồng thời cũng là thành phố đông dân thứ hai và có mật độ dân số cao thứ hai trong 63 đơn vị hành chính cấp tỉnh của Việt Nam, nhưng phân bố dân số không đồng đều. Hà Nội có 30 đơn vị hành chính cấp huyện, gồm 13 quận, 16 huyện và 1 thị xã.\n",
      "Hà Nội đã sớm trở thành một trung tâm chính trị, kinh tế và văn hóa ngay từ những buổi đầu của lịch sử Việt Nam. Với vai trò thủ đô, Hà Nội là nơi tập trung nhiều địa điểm văn hóa giải trí, công trình thể thao quan trọng của đất nước, đồng thời cũng là địa điểm được lựa chọn để tổ chức nhiều sự kiện chính trị và thể thao quốc tế. Đây là nơi tập trung nhiều làng nghề truyền thống, đồng thời cũng là một trong ba vùng tập trung nhiều hội lễ của miền Bắc Việt Nam. Nền ẩm thực Hà Nội với nhiều nét riêng biệt cũng là một trong những yếu tố thu hút khách du lịch tới thành phố. Năm 2019, Hà Nội là đơn vị hành chính Việt Nam xếp thứ 2 về tổng sản phẩm trên địa bàn (GRDP), xếp thứ 8 về GRDP bình quân đầu người và đứng thứ 41 về tốc độ tăng trưởng GRDP. Thành phố được UNESCO trao tặng danh hiệu \"Thành phố vì hòa bình\" vào ngày 16 tháng 7 năm 1999. Khu Hoàng thành Thăng Long cũng được tổ chức UNESCO công nhận là di sản văn hóa thế giới.\n",
      "    ```\n",
      "    Bạn hãy đặt không quá 10 câu hỏi với dạng được liệt kê sau. Hãy nhớ là mỗi dạng có thể có nhiều hơn một câu hỏi:\n",
      "    1. Hỏi về thông tin của một người.\n",
      "    2. Hỏi về sự kiện thời gian.\n",
      "    3. Hỏi về các mối quan hệ giữa những đối tượng trong đoạn văn bản.\n",
      "    4. Hỏi về những đặc trưng.\n",
      "    \n",
      "    Đầu ra của bạn nên là một danh sách theo định dạng sau:\n",
      "    <câu_hỏi>; <câu_trả_lời_đúng>; <trích_dẫn>\n",
      " \u001b[0m\n",
      "\n",
      "\u001b[1m> Finished chain.\u001b[0m\n"
     ]
    },
    {
     "data": {
      "text/plain": [
       "{'fact': 'Hà Nội là thủ đô, thành phố trực thuộc trung ương và là một trong hai đô thị loại đặc biệt, trung tâm văn hóa và giáo dục của nước Cộng hòa Xã hội chủ nghĩa Việt Nam. Hà Nội nằm về phía tây bắc của trung tâm vùng đồng bằng châu thổ sông Hồng, với địa hình bao gồm vùng đồng bằng trung tâm và vùng đồi núi ở phía bắc và phía tây thành phố. Với diện tích 3.359,82 km², và dân số 8,4 triệu người, Hà Nội là thành phố trực thuộc trung ương có diện tích lớn nhất Việt Nam, đồng thời cũng là thành phố đông dân thứ hai và có mật độ dân số cao thứ hai trong 63 đơn vị hành chính cấp tỉnh của Việt Nam, nhưng phân bố dân số không đồng đều. Hà Nội có 30 đơn vị hành chính cấp huyện, gồm 13 quận, 16 huyện và 1 thị xã.\\nHà Nội đã sớm trở thành một trung tâm chính trị, kinh tế và văn hóa ngay từ những buổi đầu của lịch sử Việt Nam. Với vai trò thủ đô, Hà Nội là nơi tập trung nhiều địa điểm văn hóa giải trí, công trình thể thao quan trọng của đất nước, đồng thời cũng là địa điểm được lựa chọn để tổ chức nhiều sự kiện chính trị và thể thao quốc tế. Đây là nơi tập trung nhiều làng nghề truyền thống, đồng thời cũng là một trong ba vùng tập trung nhiều hội lễ của miền Bắc Việt Nam. Nền ẩm thực Hà Nội với nhiều nét riêng biệt cũng là một trong những yếu tố thu hút khách du lịch tới thành phố. Năm 2019, Hà Nội là đơn vị hành chính Việt Nam xếp thứ 2 về tổng sản phẩm trên địa bàn (GRDP), xếp thứ 8 về GRDP bình quân đầu người và đứng thứ 41 về tốc độ tăng trưởng GRDP. Thành phố được UNESCO trao tặng danh hiệu \"Thành phố vì hòa bình\" vào ngày 16 tháng 7 năm 1999. Khu Hoàng thành Thăng Long cũng được tổ chức UNESCO công nhận là di sản văn hóa thế giới.',\n",
       " 'n_ques': 10,\n",
       " 'result': '1. Hà Nội là thủ đô của quốc gia nào?; Hà Nội là thủ đô của nước Cộng hòa Xã hội chủ nghĩa Việt Nam.; \"Hà Nội là thủ đô, thành phố trực thuộc trung ương và là một trong hai đô thị loại đặc biệt, trung tâm văn hóa và giáo dục của nước Cộng hòa Xã hội chủ nghĩa Việt Nam.\"\\n2. Hà Nội nằm ở vị trí nào trong đồng bằng châu thổ sông Hồng?; Hà Nội nằm về phía tây bắc của trung tâm vùng đồng bằng châu thổ sông Hồng.; \"Hà Nội nằm về phía tây bắc của trung tâm vùng đồng bằng châu thổ sông Hồng, với địa hình bao gồm vùng đồng bằng trung tâm và vùng đồi núi ở phía bắc và phía tây thành phố.\"\\n3. Hà Nội có bao nhiêu đơn vị hành chính cấp huyện?; Hà Nội có 30 đơn vị hành chính cấp huyện.; \"Hà Nội có 30 đơn vị hành chính cấp huyện, gồm 13 quận, 16 huyện và 1 thị xã.\"\\n4. Hà Nội là thành phố trực thuộc trung ương có diện tích lớn nhất Việt Nam hay không?; Đúng, Hà Nội là thành phố trực thuộc trung ương có diện tích lớn nhất Việt Nam.; \"Hà Nội là thành phố trực thuộc trung ương có diện tích lớn nhất Việt Nam, đồng thời cũng là thành phố đông dân thứ hai và có mật độ dân số cao thứ hai trong 63 đơn vị hành chính cấp tỉnh của Việt Nam.\"\\n5. Hà Nội có được công nhận là di sản văn hóa thế giới không?; Có, Khu Hoàng thành Thăng Long của Hà Nội đã được công nhận là di sản văn hóa thế giới.; \"Khu Hoàng thành Thăng Long cũng được tổ chức UNESCO công nhận là di sản văn hóa thế giới.\"\\n6. Hà Nội có bao nhiêu đơn vị hành chính cấp tỉnh?; Hà Nội không phải là đơn vị hành chính cấp tỉnh.; \"Hà Nội có 30 đơn vị hành chính cấp huyện, gồm 13 quận, 16 huyện và 1 thị xã.\"\\n7. Hà Nội có bao nhiêu dân số?; Hà Nội có dân số là 8,4 triệu người.; \"Với diện tích 3.359,82 km², và dân số 8,4 triệu người, Hà Nội là thành phố trực thuộc trung ương có diện tích lớn nhất Việt Nam, đồng thời cũng là thành phố đông dân thứ hai và có mật độ dân số cao thứ hai trong 63 đơn vị hành chính cấp tỉnh của Việt Nam, nhưng phân bố dân số không đồng đều.\"\\n8. Hà Nội có được trao tặng danh hiệu \"Thành phố vì hòa bình\" không?'}"
      ]
     },
     "execution_count": 6,
     "metadata": {},
     "output_type": "execute_result"
    }
   ],
   "source": [
    "fact = \"\"\"Hà Nội là thủ đô, thành phố trực thuộc trung ương và là một trong hai đô thị loại đặc biệt, trung tâm văn hóa và giáo dục của nước Cộng hòa Xã hội chủ nghĩa Việt Nam. Hà Nội nằm về phía tây bắc của trung tâm vùng đồng bằng châu thổ sông Hồng, với địa hình bao gồm vùng đồng bằng trung tâm và vùng đồi núi ở phía bắc và phía tây thành phố. Với diện tích 3.359,82 km², và dân số 8,4 triệu người, Hà Nội là thành phố trực thuộc trung ương có diện tích lớn nhất Việt Nam, đồng thời cũng là thành phố đông dân thứ hai và có mật độ dân số cao thứ hai trong 63 đơn vị hành chính cấp tỉnh của Việt Nam, nhưng phân bố dân số không đồng đều. Hà Nội có 30 đơn vị hành chính cấp huyện, gồm 13 quận, 16 huyện và 1 thị xã.\\nHà Nội đã sớm trở thành một trung tâm chính trị, kinh tế và văn hóa ngay từ những buổi đầu của lịch sử Việt Nam. Với vai trò thủ đô, Hà Nội là nơi tập trung nhiều địa điểm văn hóa giải trí, công trình thể thao quan trọng của đất nước, đồng thời cũng là địa điểm được lựa chọn để tổ chức nhiều sự kiện chính trị và thể thao quốc tế. Đây là nơi tập trung nhiều làng nghề truyền thống, đồng thời cũng là một trong ba vùng tập trung nhiều hội lễ của miền Bắc Việt Nam. Nền ẩm thực Hà Nội với nhiều nét riêng biệt cũng là một trong những yếu tố thu hút khách du lịch tới thành phố. Năm 2019, Hà Nội là đơn vị hành chính Việt Nam xếp thứ 2 về tổng sản phẩm trên địa bàn (GRDP), xếp thứ 8 về GRDP bình quân đầu người và đứng thứ 41 về tốc độ tăng trưởng GRDP. Thành phố được UNESCO trao tặng danh hiệu \"Thành phố vì hòa bình\" vào ngày 16 tháng 7 năm 1999. Khu Hoàng thành Thăng Long cũng được tổ chức UNESCO công nhận là di sản văn hóa thế giới.\"\"\"\n",
    "\n",
    "ans = chain({'fact': fact, 'n_ques': 10})\n",
    "ans"
   ]
  }
 ],
 "metadata": {
  "kernelspec": {
   "display_name": "Python 3 (ipykernel)",
   "language": "python",
   "name": "python3"
  },
  "language_info": {
   "codemirror_mode": {
    "name": "ipython",
    "version": 3
   },
   "file_extension": ".py",
   "mimetype": "text/x-python",
   "name": "python",
   "nbconvert_exporter": "python",
   "pygments_lexer": "ipython3",
   "version": "3.10.6"
  }
 },
 "nbformat": 4,
 "nbformat_minor": 5
}
