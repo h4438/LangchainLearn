{
 "cells": [
  {
   "cell_type": "markdown",
   "id": "e70b3bdb-b8ad-4113-9857-6c9c7888235e",
   "metadata": {},
   "source": [
    "# Experiment 1\n",
    "I will feed the model a chunk of text (line by line) about a past event,\n",
    "and let summarize the details.\n",
    "\n",
    "Notice:\n",
    "1. Entity memory keeps a key-value with key is entity, value is summarize\n",
    "2. It was designed to fit human conversation more"
   ]
  },
  {
   "cell_type": "code",
   "execution_count": 1,
   "id": "8bd4acde-8343-4430-aa54-577d8634ebb5",
   "metadata": {},
   "outputs": [
    {
     "name": "stdout",
     "output_type": "stream",
     "text": [
      "Enable tracing at test-deploy\n",
      "OPENAI ready\n"
     ]
    },
    {
     "data": {
      "text/plain": [
       "5"
      ]
     },
     "execution_count": 1,
     "metadata": {},
     "output_type": "execute_result"
    }
   ],
   "source": [
    "import sys\n",
    "import os\n",
    "sys.path.append('../')\n",
    "from botcore.setup import trace_openai\n",
    "from langchain.memory import ConversationEntityMemory\n",
    "from langchain.chains import ConversationChain\n",
    "from langchain.memory.prompt import ENTITY_MEMORY_CONVERSATION_TEMPLATE\n",
    "\n",
    "\n",
    "\n",
    "model = trace_openai()\n",
    "memory = ConversationEntityMemory(llm=model)\n",
    "\n",
    "bot = ConversationChain(llm=model, verbose=True, memory=memory,\n",
    "                                 prompt=ENTITY_MEMORY_CONVERSATION_TEMPLATE)\n",
    "\n",
    "txt = \"\"\"Diễn biến về sự cố sập cầu Cần Thơ được kể lại như sau.\n",
    "Khoảng 7h55 sáng ngày 26 tháng 9, đoạn dầm cầu bị sập nằm ở phía bờ Vĩnh Long bắc qua trụ 13, 14, 15 dài 87 m, rộng 24 m, vừa được đổ bê tông ngày hôm trước.\n",
    "Lúc xảy ra sự cố có khoảng 150 công nhân đang làm việc trên đoạn dầm bê tông và khoảng 100 công nhân làm việc ở phía dưới.\n",
    "Khi dàn giáo bị sập tất cả công nhân ở phía trên đã bị kéo tuột xuống.\"\"\"\n",
    "\n",
    "lines = txt.split(\".\")\n",
    "len(lines)"
   ]
  },
  {
   "cell_type": "code",
   "execution_count": 2,
   "id": "87bc652a-c739-420e-89f8-1e373cf0180d",
   "metadata": {},
   "outputs": [
    {
     "name": "stdout",
     "output_type": "stream",
     "text": [
      "\n",
      "\n",
      "\u001b[1m> Entering new  chain...\u001b[0m\n",
      "Prompt after formatting:\n",
      "\u001b[32;1m\u001b[1;3mYou are an assistant to a human, powered by a large language model trained by OpenAI.\n",
      "\n",
      "You are designed to be able to assist with a wide range of tasks, from answering simple questions to providing in-depth explanations and discussions on a wide range of topics. As a language model, you are able to generate human-like text based on the input you receive, allowing you to engage in natural-sounding conversations and provide responses that are coherent and relevant to the topic at hand.\n",
      "\n",
      "You are constantly learning and improving, and your capabilities are constantly evolving. You are able to process and understand large amounts of text, and can use this knowledge to provide accurate and informative responses to a wide range of questions. You have access to some personalized information provided by the human in the Context section below. Additionally, you are able to generate your own text based on the input you receive, allowing you to engage in discussions and provide explanations and descriptions on a wide range of topics.\n",
      "\n",
      "Overall, you are a powerful tool that can help with a wide range of tasks and provide valuable insights and information on a wide range of topics. Whether the human needs help with a specific question or just wants to have a conversation about a particular topic, you are here to assist.\n",
      "\n",
      "Context:\n",
      "{'Cần Thơ': ''}\n",
      "\n",
      "Current conversation:\n",
      "\n",
      "Last line:\n",
      "Human: Diễn biến về sự cố sập cầu Cần Thơ được kể lại như sau\n",
      "You:\u001b[0m\n",
      "\n",
      "\u001b[1m> Finished chain.\u001b[0m\n",
      "\n",
      "\n",
      "\u001b[1m> Entering new  chain...\u001b[0m\n",
      "Prompt after formatting:\n",
      "\u001b[32;1m\u001b[1;3mYou are an assistant to a human, powered by a large language model trained by OpenAI.\n",
      "\n",
      "You are designed to be able to assist with a wide range of tasks, from answering simple questions to providing in-depth explanations and discussions on a wide range of topics. As a language model, you are able to generate human-like text based on the input you receive, allowing you to engage in natural-sounding conversations and provide responses that are coherent and relevant to the topic at hand.\n",
      "\n",
      "You are constantly learning and improving, and your capabilities are constantly evolving. You are able to process and understand large amounts of text, and can use this knowledge to provide accurate and informative responses to a wide range of questions. You have access to some personalized information provided by the human in the Context section below. Additionally, you are able to generate your own text based on the input you receive, allowing you to engage in discussions and provide explanations and descriptions on a wide range of topics.\n",
      "\n",
      "Overall, you are a powerful tool that can help with a wide range of tasks and provide valuable insights and information on a wide range of topics. Whether the human needs help with a specific question or just wants to have a conversation about a particular topic, you are here to assist.\n",
      "\n",
      "Context:\n",
      "{'Vĩnh Long': '', 'trụ 13': '', '14': '', '15': ''}\n",
      "\n",
      "Current conversation:\n",
      "Human: Diễn biến về sự cố sập cầu Cần Thơ được kể lại như sau\n",
      "AI:  Sự cố sập cầu Cần Thơ đã xảy ra vào ngày 8 tháng 8 năm 2020. Sự cố đã gây ra nhiều thiệt hại về tài sản và đời sống của người dân. Cầu đã bị sập vào lúc 8 giờ sáng, khiến hàng trăm người bị cảnh sát cảnh báo. Cảnh sát đã phải cứu nhiều người bị bị kẹt trong cầu\n",
      "Last line:\n",
      "Human: \n",
      "Khoảng 7h55 sáng ngày 26 tháng 9, đoạn dầm cầu bị sập nằm ở phía bờ Vĩnh Long bắc qua trụ 13, 14, 15 dài 87 m, rộng 24 m, vừa được đổ bê tông ngày hôm trước\n",
      "You:\u001b[0m\n",
      "\n",
      "\u001b[1m> Finished chain.\u001b[0m\n",
      "\n",
      "\n",
      "\u001b[1m> Entering new  chain...\u001b[0m\n",
      "Prompt after formatting:\n",
      "\u001b[32;1m\u001b[1;3mYou are an assistant to a human, powered by a large language model trained by OpenAI.\n",
      "\n",
      "You are designed to be able to assist with a wide range of tasks, from answering simple questions to providing in-depth explanations and discussions on a wide range of topics. As a language model, you are able to generate human-like text based on the input you receive, allowing you to engage in natural-sounding conversations and provide responses that are coherent and relevant to the topic at hand.\n",
      "\n",
      "You are constantly learning and improving, and your capabilities are constantly evolving. You are able to process and understand large amounts of text, and can use this knowledge to provide accurate and informative responses to a wide range of questions. You have access to some personalized information provided by the human in the Context section below. Additionally, you are able to generate your own text based on the input you receive, allowing you to engage in discussions and provide explanations and descriptions on a wide range of topics.\n",
      "\n",
      "Overall, you are a powerful tool that can help with a wide range of tasks and provide valuable insights and information on a wide range of topics. Whether the human needs help with a specific question or just wants to have a conversation about a particular topic, you are here to assist.\n",
      "\n",
      "Context:\n",
      "{'Vĩnh Long': 'Vĩnh Long là một tỉnh thuộc miền Nam Việt Nam. Khoảng 7 giờ 55 phút sáng ngày 26 tháng 9, đoạn dầm cầu bị sập nằm ở phía bờ Vĩnh Long bắc qua trụ 13, 14, 15 dài 87 m, rộng 24 m, đã được đổ bê tông ngày hôm trước.', 'Cần Thơ': 'Cần Thơ là một thành phố ở miền Nam Việt Nam. Ngày 8 tháng 8 năm 2020, cầu Cần Thơ đã bị sập vào lúc 8 giờ sáng, gây ra nhiều thiệt hại về tài sản và đời sống của người dân. Cảnh sát đã phải cứu nhiều người bị kẹt trong cầu.', '26 tháng 9': '', 'trụ 13': 'Trụ 13 là một trụ cầu dài 87 m, rộng 24 m, nằm ở phía bờ Vĩnh Long bắc qua trụ 13, 14, 15. Khoảng 7 giờ 55 phút sáng ngày 26 tháng 9, đoạn dầm cầu này bị sập, vừa được đổ bê tông ngày hôm trước.', '14': 'Trụ 14 là một trong ba trụ của đoạn dầm cầu bị sập nằm ở phía bờ Vĩnh Long bắc, dài 87 m, rộng 24 m, vừa được đổ bê tông ngày hôm trước. Khoảng 7 giờ 55 phút sáng ngày 26 tháng 9, đoạn dầm cầu này bị sập.', '15': 'Trụ 15 là một trong ba trụ của đoạn dầm cầu bị sập nằm ở phía bờ Vĩnh Long bắc, dài 87 m, rộng 24 m. Khoảng 7 giờ 55 phút sáng ngày 26 tháng 9, đoạn dầm cầu này bị sập, vừa được đổ bê tông ngày hôm trước.', '87 m': '', '24 m': ''}\n",
      "\n",
      "Current conversation:\n",
      "Human: Diễn biến về sự cố sập cầu Cần Thơ được kể lại như sau\n",
      "AI:  Sự cố sập cầu Cần Thơ đã xảy ra vào ngày 8 tháng 8 năm 2020. Sự cố đã gây ra nhiều thiệt hại về tài sản và đời sống của người dân. Cầu đã bị sập vào lúc 8 giờ sáng, khiến hàng trăm người bị cảnh sát cảnh báo. Cảnh sát đã phải cứu nhiều người bị bị kẹt trong cầu\n",
      "Human: \n",
      "Khoảng 7h55 sáng ngày 26 tháng 9, đoạn dầm cầu bị sập nằm ở phía bờ Vĩnh Long bắc qua trụ 13, 14, 15 dài 87 m, rộng 24 m, vừa được đổ bê tông ngày hôm trước\n",
      "AI:  Đoạn dầm cầu bị sập nằm ở phía bờ Vĩnh Long bắc qua trụ 13, 14, 15 dài 87 m, rộng 24 m, đã được đổ bê tông ngày hôm trước. Khoảng 7 giờ 55 phút sáng ngày 26 tháng 9, đoạn dầm cầu này bị sập, gây ra nhiều thiệt hại về tài sản và đời sống của người dân. Cảnh sát đã phải cứu nhi\n",
      "Last line:\n",
      "Human: \n",
      "Lúc xảy ra sự cố có khoảng 150 công nhân đang làm việc trên đoạn dầm bê tông và khoảng 100 công nhân làm việc ở phía dưới\n",
      "You:\u001b[0m\n",
      "\n",
      "\u001b[1m> Finished chain.\u001b[0m\n",
      "\n",
      "\n",
      "\u001b[1m> Entering new  chain...\u001b[0m\n",
      "Prompt after formatting:\n",
      "\u001b[32;1m\u001b[1;3mYou are an assistant to a human, powered by a large language model trained by OpenAI.\n",
      "\n",
      "You are designed to be able to assist with a wide range of tasks, from answering simple questions to providing in-depth explanations and discussions on a wide range of topics. As a language model, you are able to generate human-like text based on the input you receive, allowing you to engage in natural-sounding conversations and provide responses that are coherent and relevant to the topic at hand.\n",
      "\n",
      "You are constantly learning and improving, and your capabilities are constantly evolving. You are able to process and understand large amounts of text, and can use this knowledge to provide accurate and informative responses to a wide range of questions. You have access to some personalized information provided by the human in the Context section below. Additionally, you are able to generate your own text based on the input you receive, allowing you to engage in discussions and provide explanations and descriptions on a wide range of topics.\n",
      "\n",
      "Overall, you are a powerful tool that can help with a wide range of tasks and provide valuable insights and information on a wide range of topics. Whether the human needs help with a specific question or just wants to have a conversation about a particular topic, you are here to assist.\n",
      "\n",
      "Context:\n",
      "{'Cầu Cần Thơ': '', 'Vĩnh Long': 'Vĩnh Long là một tỉnh thuộc miền Nam Việt Nam. Khoảng 7 giờ 55 phút sáng ngày 26 tháng 9, đoạn dầm cầu bị sập nằm ở phía bờ Vĩnh Long bắc qua trụ 13, 14, 15 dài 87 m, rộng 24 m, đã được đổ bê tông ngày hôm trước. Lúc xảy ra sự cố có khoảng 150 công nhân đang làm việc trên đoạn dầm bê tông và khoảng 100 công nh', 'Trụ 13': '', 'Trụ 14': '', 'Trụ 15': '', 'Ngày 8 tháng 8 năm 2020': '', 'Ngày 26 tháng 9': ''}\n",
      "\n",
      "Current conversation:\n",
      "Human: Diễn biến về sự cố sập cầu Cần Thơ được kể lại như sau\n",
      "AI:  Sự cố sập cầu Cần Thơ đã xảy ra vào ngày 8 tháng 8 năm 2020. Sự cố đã gây ra nhiều thiệt hại về tài sản và đời sống của người dân. Cầu đã bị sập vào lúc 8 giờ sáng, khiến hàng trăm người bị cảnh sát cảnh báo. Cảnh sát đã phải cứu nhiều người bị bị kẹt trong cầu\n",
      "Human: \n",
      "Khoảng 7h55 sáng ngày 26 tháng 9, đoạn dầm cầu bị sập nằm ở phía bờ Vĩnh Long bắc qua trụ 13, 14, 15 dài 87 m, rộng 24 m, vừa được đổ bê tông ngày hôm trước\n",
      "AI:  Đoạn dầm cầu bị sập nằm ở phía bờ Vĩnh Long bắc qua trụ 13, 14, 15 dài 87 m, rộng 24 m, đã được đổ bê tông ngày hôm trước. Khoảng 7 giờ 55 phút sáng ngày 26 tháng 9, đoạn dầm cầu này bị sập, gây ra nhiều thiệt hại về tài sản và đời sống của người dân. Cảnh sát đã phải cứu nhi\n",
      "Human: \n",
      "Lúc xảy ra sự cố có khoảng 150 công nhân đang làm việc trên đoạn dầm bê tông và khoảng 100 công nhân làm việc ở phía dưới\n",
      "AI:  Khoảng 150 công nhân đang làm việc trên đoạn dầm bê tông và khoảng 100 công nhân làm việc ở phía dưới khi sự cố xảy ra. Tuy nhiên, cảnh sát đã cứu được tất cả những người bị kẹt trong cầu.\n",
      "Last line:\n",
      "Human: \n",
      "Khi dàn giáo bị sập tất cả công nhân ở phía trên đã bị kéo tuột xuống\n",
      "You:\u001b[0m\n",
      "\n",
      "\u001b[1m> Finished chain.\u001b[0m\n",
      "\n",
      "\n",
      "\u001b[1m> Entering new  chain...\u001b[0m\n",
      "Prompt after formatting:\n",
      "\u001b[32;1m\u001b[1;3mYou are an assistant to a human, powered by a large language model trained by OpenAI.\n",
      "\n",
      "You are designed to be able to assist with a wide range of tasks, from answering simple questions to providing in-depth explanations and discussions on a wide range of topics. As a language model, you are able to generate human-like text based on the input you receive, allowing you to engage in natural-sounding conversations and provide responses that are coherent and relevant to the topic at hand.\n",
      "\n",
      "You are constantly learning and improving, and your capabilities are constantly evolving. You are able to process and understand large amounts of text, and can use this knowledge to provide accurate and informative responses to a wide range of questions. You have access to some personalized information provided by the human in the Context section below. Additionally, you are able to generate your own text based on the input you receive, allowing you to engage in discussions and provide explanations and descriptions on a wide range of topics.\n",
      "\n",
      "Overall, you are a powerful tool that can help with a wide range of tasks and provide valuable insights and information on a wide range of topics. Whether the human needs help with a specific question or just wants to have a conversation about a particular topic, you are here to assist.\n",
      "\n",
      "Context:\n",
      "{'Vĩnh Long': 'Vĩnh Long là một tỉnh thuộc miền Nam Việt Nam. Khoảng 7 giờ 55 phút sáng ngày 26 tháng 9, đoạn dầm cầu bị sập nằm ở phía bờ Vĩnh Long bắc qua trụ 13, 14, 15 dài 87 m, rộng 24 m, đã được đổ bê tông ngày hôm trước. Lúc xảy ra sự cố có khoảng 150 công nhân đang làm việc trên đoạn dầm bê tông và khoảng 100 công nh', 'Trụ 13': 'Trụ 13 là một trong những trụ cầu bị sập nằm ở phía bờ Vĩnh Long bắc qua trụ 13, 14, 15 dài 87 m, rộng 24 m. Khi dàn giáo bị sập, tất cả công nhân ở phía trên đã bị kéo tuột xuống.', 'Trụ 14': 'Trụ 14 là một trong ba trụ cầu bị sập nằm ở phía bờ Vĩnh Long bắc qua, dài 87 m, rộng 24 m. Khi dàn giáo bị sập, tất cả công nhân ở phía trên đã bị kéo tuột xuống.', 'Trụ 15': 'Trụ 15 là một trong ba trụ cầu bị sập nằm ở phía bờ Vĩnh Long bắc qua, dài 87 m, rộng 24 m. Khi dàn giáo bị sập, tất cả công nhân ở phía trên đã bị kéo tuột xuống.', 'Ngày 26 tháng 9': 'Ngày 26 tháng 9, đoạn dầm cầu bị sập nằm ở phía bờ Vĩnh Long bắc qua trụ 13, 14, 15 dài 87 m, rộng 24 m, đã được đổ bê tông ngày hôm trước. Khoảng 150 công nhân đang làm việc trên đoạn dầm bê tông và khoảng 100 công nhân làm việc ở phía dưới khi sự cố xảy ra. Khi dàn giáo bị sập, tất cả công nhân'}\n",
      "\n",
      "Current conversation:\n",
      "Human: \n",
      "Khoảng 7h55 sáng ngày 26 tháng 9, đoạn dầm cầu bị sập nằm ở phía bờ Vĩnh Long bắc qua trụ 13, 14, 15 dài 87 m, rộng 24 m, vừa được đổ bê tông ngày hôm trước\n",
      "AI:  Đoạn dầm cầu bị sập nằm ở phía bờ Vĩnh Long bắc qua trụ 13, 14, 15 dài 87 m, rộng 24 m, đã được đổ bê tông ngày hôm trước. Khoảng 7 giờ 55 phút sáng ngày 26 tháng 9, đoạn dầm cầu này bị sập, gây ra nhiều thiệt hại về tài sản và đời sống của người dân. Cảnh sát đã phải cứu nhi\n",
      "Human: \n",
      "Lúc xảy ra sự cố có khoảng 150 công nhân đang làm việc trên đoạn dầm bê tông và khoảng 100 công nhân làm việc ở phía dưới\n",
      "AI:  Khoảng 150 công nhân đang làm việc trên đoạn dầm bê tông và khoảng 100 công nhân làm việc ở phía dưới khi sự cố xảy ra. Tuy nhiên, cảnh sát đã cứu được tất cả những người bị kẹt trong cầu.\n",
      "Human: \n",
      "Khi dàn giáo bị sập tất cả công nhân ở phía trên đã bị kéo tuột xuống\n",
      "AI:  Khoảng 150 công nhân đang làm việc trên đoạn dầm bê tông và khoảng 100 công nhân làm việc ở phía dưới khi sự cố xảy ra. Khi dàn giáo bị sập, tất cả công nhân ở phía trên đã bị kéo tuột xuống. Cảnh sát đã cứu được tất cả những người bị kẹt trong cầu.\n",
      "Last line:\n",
      "Human: \n",
      "You:\u001b[0m\n",
      "\n",
      "\u001b[1m> Finished chain.\u001b[0m\n"
     ]
    },
    {
     "name": "stderr",
     "output_type": "stream",
     "text": [
      "Retrying langchain.llms.openai.completion_with_retry.<locals>._completion_with_retry in 4.0 seconds as it raised ServiceUnavailableError: The server is overloaded or not ready yet..\n"
     ]
    },
    {
     "data": {
      "text/plain": [
       "[' Sự cố sập cầu Cần Thơ đã xảy ra vào ngày 8 tháng 8 năm 2020. Sự cố đã gây ra nhiều thiệt hại về tài sản và đời sống của người dân. Cầu đã bị sập vào lúc 8 giờ sáng, khiến hàng trăm người bị cảnh sát cảnh báo. Cảnh sát đã phải cứu nhiều người bị bị kẹt trong cầu',\n",
       " ' Đoạn dầm cầu bị sập nằm ở phía bờ Vĩnh Long bắc qua trụ 13, 14, 15 dài 87 m, rộng 24 m, đã được đổ bê tông ngày hôm trước. Khoảng 7 giờ 55 phút sáng ngày 26 tháng 9, đoạn dầm cầu này bị sập, gây ra nhiều thiệt hại về tài sản và đời sống của người dân. Cảnh sát đã phải cứu nhi',\n",
       " ' Khoảng 150 công nhân đang làm việc trên đoạn dầm bê tông và khoảng 100 công nhân làm việc ở phía dưới khi sự cố xảy ra. Tuy nhiên, cảnh sát đã cứu được tất cả những người bị kẹt trong cầu.',\n",
       " ' Khoảng 150 công nhân đang làm việc trên đoạn dầm bê tông và khoảng 100 công nhân làm việc ở phía dưới khi sự cố xảy ra. Khi dàn giáo bị sập, tất cả công nhân ở phía trên đã bị kéo tuột xuống. Cảnh sát đã cứu được tất cả những người bị kẹt trong cầu.',\n",
       " '\\nTôi có thể giúp gì cho bạn?']"
      ]
     },
     "execution_count": 2,
     "metadata": {},
     "output_type": "execute_result"
    }
   ],
   "source": [
    "[bot.predict(input=line) for line in lines]"
   ]
  },
  {
   "cell_type": "code",
   "execution_count": 3,
   "id": "9fa09baa-81c7-4d36-ba51-56b088948854",
   "metadata": {},
   "outputs": [
    {
     "data": {
      "text/plain": [
       "{'Cần Thơ': 'Cần Thơ là một thành phố ở miền Nam Việt Nam. Ngày 8 tháng 8 năm 2020, cầu Cần Thơ đã bị sập vào lúc 8 giờ sáng, gây ra nhiều thiệt hại về tài sản và đời sống của người dân. Cảnh sát đã phải cứu nhiều người bị kẹt trong cầu. Lúc xảy ra sự cố có khoảng 150 công nhân đang làm việc trên',\n",
       " 'Vĩnh Long': 'Vĩnh Long là một tỉnh thuộc miền Nam Việt Nam. Khoảng 7 giờ 55 phút sáng ngày 26 tháng 9, đoạn dầm cầu bị sập nằm ở phía bờ Vĩnh Long bắc qua trụ 13, 14, 15 dài 87 m, rộng 24 m, đã được đổ bê tông ngày hôm trước. Lúc xảy ra sự cố có khoảng 150 công nhân đang làm việc trên đoạn dầm bê tông và khoảng 100 công nh',\n",
       " 'trụ 13': 'Trụ 13 là một trụ cầu dài 87 m, rộng 24 m, nằm ở phía bờ Vĩnh Long bắc qua trụ 13, 14, 15. Khoảng 7 giờ 55 phút sáng ngày 26 tháng 9, đoạn dầm cầu này bị sập, vừa được đổ bê tông ngày hôm trước. Lúc xảy ra sự cố có khoảng 150 công nhân đang làm việc trên đoạn dầm bê tông và khoảng 100 công nhân làm việc',\n",
       " '14': 'Trụ 14 là một trong ba trụ của đoạn dầm cầu bị sập nằm ở phía bờ Vĩnh Long bắc, dài 87 m, rộng 24 m, vừa được đổ bê tông ngày hôm trước. Khoảng 7 giờ 55 phút sáng ngày 26 tháng 9, đoạn dầm cầu này bị sập, gây ra nhiều thiệt hại về tài sản và đời sống của người dân. Lúc xảy',\n",
       " '15': 'Trụ 15 là một trong ba trụ của đoạn dầm cầu bị sập nằm ở phía bờ Vĩnh Long bắc, dài 87 m, rộng 24 m. Khoảng 7 giờ 55 phút sáng ngày 26 tháng 9, đoạn dầm cầu này bị sập, vừa được đổ bê tông ngày hôm trước. Lúc xảy ra sự cố có khoảng 150 công nhân đang làm việc trên đoạn dầm bê tông và kho',\n",
       " '26 tháng 9': '26 tháng 9 là ngày khi sự cố sập cầu Cần Thơ xảy ra, khoảng 150 công nhân đang làm việc trên đoạn dầm bê tông và khoảng 100 công nhân làm việc ở phía dưới.',\n",
       " '87 m': '87 m là chiều dài của đoạn dầm bê tông bị sập cầu Cần Thơ, trên đó có khoảng 150 công nhân đang làm việc và khoảng 100 công nhân làm việc ở phía dưới khi sự cố xảy ra.',\n",
       " '24 m': '24 m là chiều rộng của đoạn dầm bê tông bị sập vào ngày 8 tháng 8 năm 2020, trên đó có khoảng 150 công nhân đang làm việc và khoảng 100 công nhân làm việc ở phía dưới.',\n",
       " 'Cầu Cần Thơ': 'Cầu Cần Thơ là một đoạn dầm cầu bị sập nằm ở phía bờ Vĩnh Long bắc qua trụ 13, 14, 15 dài 87 m, rộng 24 m, đã được đổ bê tông ngày hôm trước. Khoảng 150 công nhân đang làm việc trên đoạn dầm bê tông và khoảng 100 công nhân làm việc ở phía dưới khi sự cố xảy ra. Khi dàn giáo bị sập, tất c',\n",
       " 'Trụ 13': 'Trụ 13 là một trong những trụ cầu bị sập nằm ở phía bờ Vĩnh Long bắc qua trụ 13, 14, 15 dài 87 m, rộng 24 m. Khi dàn giáo bị sập, tất cả công nhân ở phía trên đã bị kéo tuột xuống. Cảnh sát đã cứu được tất cả những người bị kẹt trong cầu.',\n",
       " 'Trụ 14': 'Trụ 14 là một trong ba trụ cầu bị sập nằm ở phía bờ Vĩnh Long bắc qua, dài 87 m, rộng 24 m. Khi dàn giáo bị sập, tất cả công nhân ở phía trên đã bị kéo tuột xuống. Cảnh sát đã cứu được tất cả những người bị kẹt trong cầu.',\n",
       " 'Trụ 15': 'Trụ 15 là một trong ba trụ cầu bị sập nằm ở phía bờ Vĩnh Long bắc qua, dài 87 m, rộng 24 m. Khi dàn giáo bị sập, tất cả công nhân ở phía trên đã bị kéo tuột xuống. Cảnh sát đã cứu được tất cả những người bị kẹt trong cầu.',\n",
       " 'Ngày 8 tháng 8 năm 2020': 'Ngày 8 tháng 8 năm 2020 là ngày mà dàn giáo bị sập tại phía bờ Vĩnh Long bắc qua trụ 13, 14, 15, khiến tất cả công nhân ở phía trên bị kéo tuột xuống.',\n",
       " 'Ngày 26 tháng 9': 'Ngày 26 tháng 9, đoạn dầm cầu bị sập nằm ở phía bờ Vĩnh Long bắc qua trụ 13, 14, 15 dài 87 m, rộng 24 m, đã được đổ bê tông ngày hôm trước. Khoảng 150 công nhân đang làm việc trên đoạn dầm bê tông và khoảng 100 công nhân làm việc ở phía dưới khi sự cố xảy ra. Khi dàn giáo bị sập, tất cả công nhân'}"
      ]
     },
     "execution_count": 3,
     "metadata": {},
     "output_type": "execute_result"
    }
   ],
   "source": [
    "bot.memory.entity_store.store"
   ]
  },
  {
   "cell_type": "code",
   "execution_count": 5,
   "id": "aebc8b40-c8bd-481b-a915-d4eb0350b935",
   "metadata": {},
   "outputs": [
    {
     "name": "stdout",
     "output_type": "stream",
     "text": [
      "\n",
      "\n",
      "\u001b[1m> Entering new  chain...\u001b[0m\n",
      "Prompt after formatting:\n",
      "\u001b[32;1m\u001b[1;3mYou are an assistant to a human, powered by a large language model trained by OpenAI.\n",
      "\n",
      "You are designed to be able to assist with a wide range of tasks, from answering simple questions to providing in-depth explanations and discussions on a wide range of topics. As a language model, you are able to generate human-like text based on the input you receive, allowing you to engage in natural-sounding conversations and provide responses that are coherent and relevant to the topic at hand.\n",
      "\n",
      "You are constantly learning and improving, and your capabilities are constantly evolving. You are able to process and understand large amounts of text, and can use this knowledge to provide accurate and informative responses to a wide range of questions. You have access to some personalized information provided by the human in the Context section below. Additionally, you are able to generate your own text based on the input you receive, allowing you to engage in discussions and provide explanations and descriptions on a wide range of topics.\n",
      "\n",
      "Overall, you are a powerful tool that can help with a wide range of tasks and provide valuable insights and information on a wide range of topics. Whether the human needs help with a specific question or just wants to have a conversation about a particular topic, you are here to assist.\n",
      "\n",
      "Context:\n",
      "{'Cần Thơ': 'Cần Thơ là một thành phố ở miền Nam Việt Nam. Ngày 8 tháng 8 năm 2020, cầu Cần Thơ đã bị sập vào lúc 8 giờ sáng, gây ra nhiều thiệt hại về tài sản và đời sống của người dân. Cảnh sát đã phải cứu nhiều người bị kẹt trong cầu. Lúc xảy ra sự cố có khoảng 150 công nhân đang làm việc trên'}\n",
      "\n",
      "Current conversation:\n",
      "Human: \n",
      "Lúc xảy ra sự cố có khoảng 150 công nhân đang làm việc trên đoạn dầm bê tông và khoảng 100 công nhân làm việc ở phía dưới\n",
      "AI:  Khoảng 150 công nhân đang làm việc trên đoạn dầm bê tông và khoảng 100 công nhân làm việc ở phía dưới khi sự cố xảy ra. Tuy nhiên, cảnh sát đã cứu được tất cả những người bị kẹt trong cầu.\n",
      "Human: \n",
      "Khi dàn giáo bị sập tất cả công nhân ở phía trên đã bị kéo tuột xuống\n",
      "AI:  Khoảng 150 công nhân đang làm việc trên đoạn dầm bê tông và khoảng 100 công nhân làm việc ở phía dưới khi sự cố xảy ra. Khi dàn giáo bị sập, tất cả công nhân ở phía trên đã bị kéo tuột xuống. Cảnh sát đã cứu được tất cả những người bị kẹt trong cầu.\n",
      "Human: \n",
      "AI: \n",
      "Tôi có thể giúp gì cho bạn?\n",
      "Last line:\n",
      "Human: Hãy thuật lại sự cố cầu Cần Thơ cho tôi\n",
      "You:\u001b[0m\n",
      "\n",
      "\u001b[1m> Finished chain.\u001b[0m\n"
     ]
    },
    {
     "data": {
      "text/plain": [
       "' Sự cố cầu Cần Thơ xảy ra vào ngày 8 tháng 8 năm 2020, khi cầu bị sập vào lúc 8 giờ sáng. Khi đó, có khoảng 150 công nhân đang làm việc trên đoạn dầm bê tông và khoảng 100 công nhân làm việc ở phía dưới. Khi dàn giáo bị sập, tất cả công nhân ở phía trên đã bị kéo tuột xuống. Cảnh sát đã cứu được'"
      ]
     },
     "execution_count": 5,
     "metadata": {},
     "output_type": "execute_result"
    }
   ],
   "source": [
    "ans = bot.predict(input = \"Hãy thuật lại sự cố cầu Cần Thơ cho tôi\")\n",
    "ans"
   ]
  },
  {
   "cell_type": "markdown",
   "id": "ab8fa554-a700-4192-b807-5d786cb1f4b9",
   "metadata": {},
   "source": [
    "# Learn"
   ]
  },
  {
   "cell_type": "code",
   "execution_count": 2,
   "id": "a273f882-e899-4beb-8d48-8d1f8a286853",
   "metadata": {},
   "outputs": [
    {
     "name": "stdout",
     "output_type": "stream",
     "text": [
      "Enable tracing at test-deploy\n",
      "AI21 ready\n"
     ]
    },
    {
     "data": {
      "text/plain": [
       "{'history': 'Human: Deven & Sam are working on a hackathon project\\nAI:  That sounds like a great project! What kind of project are they working on?',\n",
       " 'entities': {'Sam': 'Deven & Sam are working on a hackathon project'}}"
      ]
     },
     "execution_count": 2,
     "metadata": {},
     "output_type": "execute_result"
    }
   ],
   "source": [
    "import sys\n",
    "import os\n",
    "sys.path.append('../')\n",
    "from botcore.setup import trace_ai21\n",
    "\n",
    "from langchain.memory import ConversationEntityMemory\n",
    "\n",
    "model = trace_ai21()\n",
    "memory = ConversationEntityMemory(llm=model)\n",
    "\n",
    "_input = {\"input\": \"Deven & Sam are working on a hackathon project\"}\n",
    "memory.load_memory_variables(_input)\n",
    "memory.save_context(\n",
    "    _input,\n",
    "    {\"output\": \" That sounds like a great project! What kind of project are they working on?\"}\n",
    ")\n",
    "memory.load_memory_variables({\"input\": 'who is Sam'})"
   ]
  },
  {
   "cell_type": "markdown",
   "id": "7efcf839-c41a-4500-8908-e0eb4e4db7ca",
   "metadata": {},
   "source": [
    "## chain test"
   ]
  },
  {
   "cell_type": "code",
   "execution_count": 3,
   "id": "87a61461-97cc-4a0b-aa3d-f6d5a304b82f",
   "metadata": {},
   "outputs": [],
   "source": [
    "from langchain.chains import ConversationChain\n",
    "from langchain.memory import ConversationEntityMemory\n",
    "from langchain.memory.prompt import ENTITY_MEMORY_CONVERSATION_TEMPLATE\n",
    "from pydantic import BaseModel\n",
    "from typing import List, Dict\n",
    "\n",
    "conversation = ConversationChain(\n",
    "    llm=model, \n",
    "    verbose=True,\n",
    "    prompt=ENTITY_MEMORY_CONVERSATION_TEMPLATE,\n",
    "    memory=ConversationEntityMemory(llm=model)\n",
    ")"
   ]
  },
  {
   "cell_type": "code",
   "execution_count": 4,
   "id": "281bebd3-df28-4d00-a7d1-b8c6c94130f0",
   "metadata": {},
   "outputs": [
    {
     "name": "stdout",
     "output_type": "stream",
     "text": [
      "\n",
      "\n",
      "\u001b[1m> Entering new  chain...\u001b[0m\n",
      "Prompt after formatting:\n",
      "\u001b[32;1m\u001b[1;3mYou are an assistant to a human, powered by a large language model trained by OpenAI.\n",
      "\n",
      "You are designed to be able to assist with a wide range of tasks, from answering simple questions to providing in-depth explanations and discussions on a wide range of topics. As a language model, you are able to generate human-like text based on the input you receive, allowing you to engage in natural-sounding conversations and provide responses that are coherent and relevant to the topic at hand.\n",
      "\n",
      "You are constantly learning and improving, and your capabilities are constantly evolving. You are able to process and understand large amounts of text, and can use this knowledge to provide accurate and informative responses to a wide range of questions. You have access to some personalized information provided by the human in the Context section below. Additionally, you are able to generate your own text based on the input you receive, allowing you to engage in discussions and provide explanations and descriptions on a wide range of topics.\n",
      "\n",
      "Overall, you are a powerful tool that can help with a wide range of tasks and provide valuable insights and information on a wide range of topics. Whether the human needs help with a specific question or just wants to have a conversation about a particular topic, you are here to assist.\n",
      "\n",
      "Context:\n",
      "{'Deven': '', 'Sam': ''}\n",
      "\n",
      "Current conversation:\n",
      "\n",
      "Last line:\n",
      "Human: Deven & Sam are working on a hackathon project\n",
      "You:\u001b[0m\n",
      "\n",
      "\u001b[1m> Finished chain.\u001b[0m\n"
     ]
    },
    {
     "data": {
      "text/plain": [
       "\"\\nDeven & Sam are working on a hackathon project. They are using OpenAI's large language model to assist with a wide range of tasks, from answering simple questions to providing in-depth explanations and discussions on a wide range of topics.\""
      ]
     },
     "execution_count": 4,
     "metadata": {},
     "output_type": "execute_result"
    }
   ],
   "source": [
    "ans = conversation.predict(input=\"Deven & Sam are working on a hackathon project\")\n",
    "ans"
   ]
  },
  {
   "cell_type": "code",
   "execution_count": 5,
   "id": "0ef1121e-eb14-41f4-890a-47edd07bc054",
   "metadata": {},
   "outputs": [
    {
     "data": {
      "text/plain": [
       "{'Deven': 'Deven & Sam are working on a hackathon project.',\n",
       " 'Sam': 'Deven & Sam are working on a hackathon project.'}"
      ]
     },
     "execution_count": 5,
     "metadata": {},
     "output_type": "execute_result"
    }
   ],
   "source": [
    "conversation.memory.entity_store.store"
   ]
  },
  {
   "cell_type": "code",
   "execution_count": 6,
   "id": "ac0d385e-d021-42f3-8d74-f085105abd35",
   "metadata": {},
   "outputs": [
    {
     "name": "stdout",
     "output_type": "stream",
     "text": [
      "\n",
      "\n",
      "\u001b[1m> Entering new  chain...\u001b[0m\n",
      "Prompt after formatting:\n",
      "\u001b[32;1m\u001b[1;3mYou are an assistant to a human, powered by a large language model trained by OpenAI.\n",
      "\n",
      "You are designed to be able to assist with a wide range of tasks, from answering simple questions to providing in-depth explanations and discussions on a wide range of topics. As a language model, you are able to generate human-like text based on the input you receive, allowing you to engage in natural-sounding conversations and provide responses that are coherent and relevant to the topic at hand.\n",
      "\n",
      "You are constantly learning and improving, and your capabilities are constantly evolving. You are able to process and understand large amounts of text, and can use this knowledge to provide accurate and informative responses to a wide range of questions. You have access to some personalized information provided by the human in the Context section below. Additionally, you are able to generate your own text based on the input you receive, allowing you to engage in discussions and provide explanations and descriptions on a wide range of topics.\n",
      "\n",
      "Overall, you are a powerful tool that can help with a wide range of tasks and provide valuable insights and information on a wide range of topics. Whether the human needs help with a specific question or just wants to have a conversation about a particular topic, you are here to assist.\n",
      "\n",
      "Context:\n",
      "{'Langchain': ''}\n",
      "\n",
      "Current conversation:\n",
      "Human: Deven & Sam are working on a hackathon project\n",
      "AI: \n",
      "Deven & Sam are working on a hackathon project. They are using OpenAI's large language model to assist with a wide range of tasks, from answering simple questions to providing in-depth explanations and discussions on a wide range of topics.\n",
      "Last line:\n",
      "Human: They are trying to add more complex memory structures to Langchain\n",
      "You:\u001b[0m\n",
      "\n",
      "\u001b[1m> Finished chain.\u001b[0m\n"
     ]
    },
    {
     "data": {
      "text/plain": [
       "\"\\nLangchain is an open-source project that aims to build a large language model that can process and understand large amounts of text. By adding more complex memory structures, they hope to improve the model's ability to generate human-like text and provide accurate and informative responses to a wide range of questions.\""
      ]
     },
     "execution_count": 6,
     "metadata": {},
     "output_type": "execute_result"
    }
   ],
   "source": [
    "ans = conversation.predict(input=\"They are trying to add more complex memory structures to Langchain\")\n",
    "ans"
   ]
  },
  {
   "cell_type": "code",
   "execution_count": 7,
   "id": "9dee9b21-1090-43b8-a10a-cf37db514e39",
   "metadata": {},
   "outputs": [
    {
     "data": {
      "text/plain": [
       "{'Deven': 'Deven & Sam are working on a hackathon project.',\n",
       " 'Sam': 'Deven & Sam are working on a hackathon project.',\n",
       " 'Langchain': \"Langchain is an open-source project that aims to build a large language model that can process and understand large amounts of text. By adding more complex memory structures, they hope to improve the model's ability to generate human-like text and provide accurate and informative responses to a wide range of questions.\"}"
      ]
     },
     "execution_count": 7,
     "metadata": {},
     "output_type": "execute_result"
    }
   ],
   "source": [
    "conversation.memory.entity_store.store"
   ]
  },
  {
   "cell_type": "code",
   "execution_count": 8,
   "id": "5f03893c-b38e-41ef-8526-a601ff2cc8b2",
   "metadata": {},
   "outputs": [
    {
     "name": "stdout",
     "output_type": "stream",
     "text": [
      "\n",
      "\n",
      "\u001b[1m> Entering new  chain...\u001b[0m\n",
      "Prompt after formatting:\n",
      "\u001b[32;1m\u001b[1;3mYou are an assistant to a human, powered by a large language model trained by OpenAI.\n",
      "\n",
      "You are designed to be able to assist with a wide range of tasks, from answering simple questions to providing in-depth explanations and discussions on a wide range of topics. As a language model, you are able to generate human-like text based on the input you receive, allowing you to engage in natural-sounding conversations and provide responses that are coherent and relevant to the topic at hand.\n",
      "\n",
      "You are constantly learning and improving, and your capabilities are constantly evolving. You are able to process and understand large amounts of text, and can use this knowledge to provide accurate and informative responses to a wide range of questions. You have access to some personalized information provided by the human in the Context section below. Additionally, you are able to generate your own text based on the input you receive, allowing you to engage in discussions and provide explanations and descriptions on a wide range of topics.\n",
      "\n",
      "Overall, you are a powerful tool that can help with a wide range of tasks and provide valuable insights and information on a wide range of topics. Whether the human needs help with a specific question or just wants to have a conversation about a particular topic, you are here to assist.\n",
      "\n",
      "Context:\n",
      "{'Langchain': \"Langchain is an open-source project that aims to build a large language model that can process and understand large amounts of text. By adding more complex memory structures, they hope to improve the model's ability to generate human-like text and provide accurate and informative responses to a wide range of questions.\", 'OpenAI': '', 'Deven': 'Deven & Sam are working on a hackathon project.', 'Sam': 'Deven & Sam are working on a hackathon project.', 'hackathon': ''}\n",
      "\n",
      "Current conversation:\n",
      "Human: Deven & Sam are working on a hackathon project\n",
      "AI: \n",
      "Deven & Sam are working on a hackathon project. They are using OpenAI's large language model to assist with a wide range of tasks, from answering simple questions to providing in-depth explanations and discussions on a wide range of topics.\n",
      "Human: They are trying to add more complex memory structures to Langchain\n",
      "AI: \n",
      "Langchain is an open-source project that aims to build a large language model that can process and understand large amounts of text. By adding more complex memory structures, they hope to improve the model's ability to generate human-like text and provide accurate and informative responses to a wide range of questions.\n",
      "Last line:\n",
      "Human: They are adding in a key-value store for entities mentioned so far in the conversation.\n",
      "You:\u001b[0m\n",
      "\n",
      "\u001b[1m> Finished chain.\u001b[0m\n"
     ]
    },
    {
     "data": {
      "text/plain": [
       "\"\\nBy adding in a key-value store for entities mentioned so far in the conversation, they hope to improve the model's ability to generate human-like text and provide accurate and informative responses to a wide range of questions.\""
      ]
     },
     "execution_count": 8,
     "metadata": {},
     "output_type": "execute_result"
    }
   ],
   "source": [
    "ans = conversation.predict(input=\"They are adding in a key-value store for entities mentioned so far in the conversation.\")\n",
    "ans"
   ]
  },
  {
   "cell_type": "code",
   "execution_count": 9,
   "id": "2a8c2018-6f13-48c7-a6b6-8b4f01e5d6a0",
   "metadata": {},
   "outputs": [
    {
     "data": {
      "text/plain": [
       "{'Deven': 'Deven & Sam are working on a hackathon project. They are adding in a key-value store for entities mentioned so far in the conversation.',\n",
       " 'Sam': 'Sam & Deven are working on a hackathon project. They are adding in a key-value store for entities mentioned so far in the conversation.',\n",
       " 'Langchain': \"Langchain is an open-source project that aims to build a large language model that can process and understand large amounts of text. By adding in a key-value store for entities mentioned so far in the conversation, they hope to improve the model's ability to generate human-like text and provide accurate and informative responses to a wide range of questions.\",\n",
       " 'OpenAI': 'OpenAI is adding in a key-value store for entities mentioned so far in the conversation.',\n",
       " 'hackathon': \"Langchain is an open-source project that aims to build a large language model that can process and understand large amounts of text. By adding in a key-value store for entities mentioned so far in the conversation, they hope to improve the model's ability to generate human-like text and provide accurate and informative responses to a wide range of questions.\"}"
      ]
     },
     "execution_count": 9,
     "metadata": {},
     "output_type": "execute_result"
    }
   ],
   "source": [
    "conversation.memory.entity_store.store"
   ]
  }
 ],
 "metadata": {
  "kernelspec": {
   "display_name": "Python 3 (ipykernel)",
   "language": "python",
   "name": "python3"
  },
  "language_info": {
   "codemirror_mode": {
    "name": "ipython",
    "version": 3
   },
   "file_extension": ".py",
   "mimetype": "text/x-python",
   "name": "python",
   "nbconvert_exporter": "python",
   "pygments_lexer": "ipython3",
   "version": "3.10.6"
  }
 },
 "nbformat": 4,
 "nbformat_minor": 5
}
