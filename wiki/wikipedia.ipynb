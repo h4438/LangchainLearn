{
 "cells": [
  {
   "cell_type": "code",
   "execution_count": 17,
   "id": "057c2936-cb6e-4e99-a58b-6e70f5cade21",
   "metadata": {},
   "outputs": [
    {
     "data": {
      "text/plain": [
       "['Biến cố Phật giáo 1963',\n",
       " 'Phật giáo',\n",
       " 'Phật giáo Việt Nam',\n",
       " 'Vụ xả súng lễ Phật Đản ở Huế',\n",
       " 'Phật giáo Nguyên thủy',\n",
       " 'Cờ Phật giáo',\n",
       " 'Đảo chính Việt Nam Cộng hòa 1963',\n",
       " 'Như Lai',\n",
       " 'Trần Lệ Xuân',\n",
       " 'Lịch sử Phật giáo']"
      ]
     },
     "execution_count": 17,
     "metadata": {},
     "output_type": "execute_result"
    }
   ],
   "source": [
    "import wikipedia as wiki\n",
    "wiki.set_lang('vi')\n",
    "data = wiki.search(\"Biến cố Phật giáo\")\n",
    "data"
   ]
  },
  {
   "cell_type": "code",
   "execution_count": 18,
   "id": "5e3e9cbf-461d-4d93-80db-7a08ce9e7172",
   "metadata": {},
   "outputs": [
    {
     "data": {
      "text/plain": [
       "'Biến cố Phật giáo năm 1963 còn được gọi là Khủng hoảng Phật giáo năm 1963, Pháp nạn Phật giáo năm 1963 hay gọi đơn giản là Phong trào Phật giáo năm 1963 là một sự kiện đỉnh điểm trong cao trào đấu tranh đòi quyền tự do và bình đẳng tôn giáo của các tín đồ Phật giáo tại miền Nam Việt Nam vào năm 1963. Biến cố này dẫn tới khủng hoảng chính trị trầm trọng từ đó dẫn đến cuộc đảo chính lật đổ chính quyền của Tổng thống Ngô Đình Diệm. Đây là một biến cố gây tiếng vang lớn tại Việt Nam và trên toàn thế giới, có ảnh hưởng to lớn trong cuộc Chiến tranh Việt Nam cũng như trong lịch sử tôn giáo và lịch sử chính trị Việt Nam.\\nBiến cố Phật giáo năm 1963 kéo dài nửa năm lan rộng khắp miền Nam Việt Nam, là xung đột giữa hai bên, một bên là Phật giáo tại Miền Nam Việt Nam và bên kia là Chính phủ Việt Nam Cộng hòa đứng đầu bởi Tổng thống Ngô Đình Diệm. Sự kiện năm 1963 chỉ là giọt nước tràn ly của những vấn đề chính trị-xã hội tích tụ trước đó, có thể nói là ngay từ trước khi Ngô Đình Diệm thành lập Việt Nam Cộng hòa. Cuộc khủng hoảng này đã làm chính phủ Ngô Đình Diệm mất hết uy tín trong và ngoài nước.\\nPhong trào Phật giáo miền Nam năm 1963 là một phong trào dân sự có quy mô rộng lớn mang màu sắc tôn giáo của các tầng lớp nhân dân miền Nam phản đối chính quyền trước các sự kiện và chính sách liên quan đến Phật giáo diễn ra trước đó. Liền sau khi bùng nổ tại Huế, phong trào đã nhanh chóng lan vào Sài Gòn và lan rộng ra khắp miền Nam, từ thành thị đến nông thôn, thu hút hàng triệu người không phân biệt xu hướng, chính kiến, từ các nhà tư sản dân tộc đến các trí thức, sinh viên, nhân dân lao động đến cả những tín đồ Thiên Chúa giáo cấp tiến. Ngay cả một số đông công chức, sĩ quan, binh sĩ trong bộ máy chính quyền Ngô Đình Diệm cũng tích cực tham gia đấu tranh. Báo cáo của các Ty, Sở An ninh quân đội cả khắp bốn quân khu gửi về đều nhấn mạnh đến tình trạng suy sụp tinh thần của quân nhân các cấp. Riêng Quân khu I, đa số sĩ quan đều trực tiếp hoặc gián tiếp yểm trợ cho phong trào đấu tranh của Phật giáo chống chính phủ. Sự tham gia rộng rãi của mọi tầng lớp nhân dân không chỉ vì ủng hộ Phật giáo mà còn vì ý thức chống chế độ độc tài, phi dân chủ.\\nChính phủ Ngô Đình Diệm đã thành lập Ủy ban Liên bộ để giải quyết những nguyện vọng của Phật giáo nhưng vẫn không thể ổn định nổi tình hình. Mỗi hành động của chính quyền đều bị lãnh đạo Phật giáo xem là một âm mưu chống lại tôn giáo của họ. Chính vì thế hai bên không tìm được tiếng nói chung để giải quyết cuộc khủng hoảng. Cuối cùng chính quyền Ngô Đình Diệm đã dùng giải pháp vũ lực bằng cách đem binh sĩ tấn công phong tỏa các chùa chiền, bắt các nhà sư, Phật tử và những người có liên quan đến phong trào đấu tranh của Phật giáo.\\nCác hành động này không chấm dứt được khủng hoảng mà dẫn đến sự phân hóa trong bộ máy chính quyền và cuộc đấu tranh của các tu sĩ, Phật tử lan rộng sang các tầng lớp xã hội khác như trí thức, công thương, học sinh - sinh viên. Chính quyền Ngô Đình Diệm không còn được chấp nhận trong con mắt của nhiều tầng lớp xã hội miền Nam Việt Nam, đánh mất sự ủng hộ của đồng minh Hoa Kỳ. Đứng trước tình hình đó một số tướng lĩnh trong Quân lực Việt Nam Cộng Hoà, với sự đồng tình của đại sứ quán Hoa Kỳ, đã đảo chính lật đổ Ngô Đình Diệm chấm dứt nền Đệ Nhất Cộng hoà ở miền Nam Việt Nam.'"
      ]
     },
     "execution_count": 18,
     "metadata": {},
     "output_type": "execute_result"
    }
   ],
   "source": [
    "ans = wiki.summary(data[0])\n",
    "ans"
   ]
  },
  {
   "cell_type": "code",
   "execution_count": 19,
   "id": "9cdb0526-30fb-4a37-812b-a074dba73678",
   "metadata": {},
   "outputs": [
    {
     "data": {
      "text/plain": [
       "'Biến cố Phật giáo 1963'"
      ]
     },
     "execution_count": 19,
     "metadata": {},
     "output_type": "execute_result"
    }
   ],
   "source": [
    "page = wiki.page(data[0])\n",
    "page.title"
   ]
  },
  {
   "cell_type": "code",
   "execution_count": 20,
   "id": "e8806e28-b05a-4a26-82dc-212047b08e18",
   "metadata": {},
   "outputs": [
    {
     "data": {
      "text/plain": [
       "[]"
      ]
     },
     "execution_count": 20,
     "metadata": {},
     "output_type": "execute_result"
    }
   ],
   "source": [
    "page.sections"
   ]
  }
 ],
 "metadata": {
  "kernelspec": {
   "display_name": "Python 3 (ipykernel)",
   "language": "python",
   "name": "python3"
  },
  "language_info": {
   "codemirror_mode": {
    "name": "ipython",
    "version": 3
   },
   "file_extension": ".py",
   "mimetype": "text/x-python",
   "name": "python",
   "nbconvert_exporter": "python",
   "pygments_lexer": "ipython3",
   "version": "3.10.6"
  }
 },
 "nbformat": 4,
 "nbformat_minor": 5
}
