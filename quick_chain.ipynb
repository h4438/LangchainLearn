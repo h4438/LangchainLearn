{
 "cells": [
  {
   "cell_type": "markdown",
   "id": "c18e9cbb-e70d-4500-8ee0-28fe7ac6dc2e",
   "metadata": {},
   "source": [
    "# Quickly build a chain with output parser"
   ]
  },
  {
   "cell_type": "code",
   "execution_count": 2,
   "id": "f175a0c5-a7fe-4f68-9870-d786e9a0117a",
   "metadata": {},
   "outputs": [
    {
     "name": "stdout",
     "output_type": "stream",
     "text": [
      "Enable tracing at seminar\n",
      "OPENAI ready\n"
     ]
    }
   ],
   "source": [
    "from setup import get_openai_model, enable_tracing\n",
    "enable_tracing(\"seminar\")\n",
    "MODEL = get_openai_model()"
   ]
  },
  {
   "cell_type": "markdown",
   "id": "550e8752-4c9d-4f54-ac1f-878d92b4b42c",
   "metadata": {},
   "source": [
    "# Text in text out"
   ]
  },
  {
   "cell_type": "code",
   "execution_count": 4,
   "id": "4e63f87b-27d8-4234-aa00-247d6b8e66c4",
   "metadata": {},
   "outputs": [
    {
     "name": "stdout",
     "output_type": "stream",
     "text": [
      "\n",
      "\n",
      "If the weather is hot, it is best to stay hydrated by drinking plenty of water and avoiding strenuous activities during the hottest parts of the day. It is also important to wear light, breathable clothing and to use sunscreen to protect your skin from the sun's harmful rays.\n"
     ]
    }
   ],
   "source": [
    "question = \"The weather is hot\"\n",
    "ans = MODEL(question)\n",
    "print(ans)"
   ]
  },
  {
   "cell_type": "markdown",
   "id": "68c9cc05-da8d-4efe-b615-a45e81076fc8",
   "metadata": {},
   "source": [
    "# PromptTemplate"
   ]
  },
  {
   "cell_type": "code",
   "execution_count": 10,
   "id": "5e6c9199-c21a-4398-bc8a-2af110fc8569",
   "metadata": {},
   "outputs": [
    {
     "name": "stdout",
     "output_type": "stream",
     "text": [
      "{'condition': 'Ngoài trời nóng quá', 'n_options': '2', 'lang': 'English', 'solution_list': '\\n1. A portable air conditioner: This is a great option if you need to cool down a specific area quickly. \\n2. A ceiling fan: This is a great option if you need to circulate air and keep a room cool without using too much energy.'}\n"
     ]
    }
   ],
   "source": [
    "from langchain.chains import LLMChain\n",
    "from langchain.prompts import PromptTemplate\n",
    "\n",
    "solution_template = \"\"\"\"\n",
    "You're a sale consultant and you're capable of giving shopping recommendations.\n",
    "Given a customer condition, you can list options along with a brief uses\n",
    " expalaination for each option. You should only list out {n_options} options\\\n",
    "  and must response in {lang}.\n",
    "The question: {condition}. What should I buy? \n",
    "The answer: \"\"\"\n",
    "\n",
    "solution_prompt = PromptTemplate(input_variables=['condition','n_options','lang'],\\\n",
    "                                  template=solution_template)\n",
    "\n",
    "solution_chain = LLMChain(llm=MODEL, prompt=solution_prompt,\\\n",
    "                               output_key='solution_list')\n",
    "\n",
    "res = solution_chain({\"condition\":\"Ngoài trời nóng quá\"\\\n",
    "                              ,\"n_options\":\"2\", 'lang':'English'})\n",
    "print(res)"
   ]
  },
  {
   "cell_type": "code",
   "execution_count": 9,
   "id": "9c96effb-3f68-4251-8114-deceb977c1b7",
   "metadata": {},
   "outputs": [
    {
     "name": "stdout",
     "output_type": "stream",
     "text": [
      "{'condition': 'Ngoài trời nóng quá', 'n_options': '3', 'lang': 'English', 'solution_list': '\\n1. A portable air conditioner: This is a great option for cooling down a room quickly and efficiently. \\n2. A fan: A fan is a great way to circulate air and keep a room cool. \\n3. A cooling pillow: A cooling pillow is a great way to keep your head cool and comfortable during hot days.'}\n"
     ]
    }
   ],
   "source": [
    "res = solution_chain({\"condition\":\"Ngoài trời nóng quá\"\\\n",
    "                              ,\"n_options\":\"3\", 'lang':'English'})\n",
    "print(res)"
   ]
  },
  {
   "cell_type": "markdown",
   "id": "1cb80140-3026-475d-a9d0-80105958050b",
   "metadata": {},
   "source": [
    "# Output Parser"
   ]
  },
  {
   "cell_type": "code",
   "execution_count": 28,
   "id": "86ef0fda-6a1a-4876-b4f6-4533291d635d",
   "metadata": {},
   "outputs": [
    {
     "name": "stdout",
     "output_type": "stream",
     "text": [
      "Answer the user question as best as possible, and you must speak in English.\n",
      "The output should be a markdown code snippet formatted in the following schema, including the leading and trailing \"\\`\\`\\`json\" and \"\\`\\`\\`\":\n",
      "\n",
      "```json\n",
      "{\n",
      "\t\"options\": string  // a js array with {n_options} shopping options to solve the user question\n",
      "\t\"reason\": string  // the reason behind your answer\n",
      "\t\"source\": string  // the source used to answer the user's question, should be a website.\n",
      "}\n",
      "```\n",
      "The question: The weather outside is too hot \n"
     ]
    }
   ],
   "source": [
    "from langchain.output_parsers import StructuredOutputParser, ResponseSchema\n",
    "from langchain.prompts import PromptTemplate\n",
    "from langchain import LLMChain\n",
    "\n",
    "# define the output\n",
    "response_schemas = [\n",
    "    ResponseSchema(name=\"options\", description=\"a js array with {n_options} shopping options to solve the user question\"),\n",
    "    ResponseSchema(name=\"reason\", description=\"the reason behind your answer\"),\n",
    "    ResponseSchema(name=\"source\", description=\"the source used to answer the user's question, should be a website.\")\n",
    "]\n",
    "output_parser = StructuredOutputParser.from_response_schemas(response_schemas)\n",
    "# prompt template\n",
    "template = \"\"\"Answer the user question as best as possible, and you must speak in {language}.\n",
    "{format_instructions}\n",
    "The question: {question} \"\"\"\n",
    "\n",
    "format_instructions = output_parser.get_format_instructions()\n",
    "prompt = PromptTemplate(template=template, input_variables=[\"question\", \"language\"],\\\n",
    "                        partial_variables={\"format_instructions\": format_instructions})\n",
    "\n",
    "# Optional part\n",
    "input_prompt = prompt.format_prompt(question=\"The weather outside is too hot\",\\\n",
    "                                    language=\"English\")\n",
    "print(input_prompt.to_string())\n",
    "\n",
    "# Build chain\n",
    "solution_chain = LLMChain(llm=MODEL, prompt=prompt, output_key='result')"
   ]
  },
  {
   "cell_type": "code",
   "execution_count": 30,
   "id": "6b79c952-b5b4-476a-9fb9-10ccf821bb3d",
   "metadata": {},
   "outputs": [
    {
     "name": "stdout",
     "output_type": "stream",
     "text": [
      "{'question': 'The weather outside is too hot', 'n_options': '3', 'language': 'English', 'result': '\\n\\n```json\\n{\\n\\t\"options\": [\"Buy an air conditioner\", \"Buy a fan\", \"Buy a portable air cooler\"],\\n\\t\"reason\": \"These options will help to cool down the temperature in your home.\",\\n\\t\"source\": \"https://www.consumerreports.org/cro/air-conditioners/buying-guide/index.htm\"\\n}\\n```'}\n"
     ]
    }
   ],
   "source": [
    "res = solution_chain({\"question\":\"The weather outside is too hot\"\\\n",
    "                              ,\"n_options\":\"3\", 'language':'English'})\n",
    "print(res)"
   ]
  },
  {
   "cell_type": "markdown",
   "id": "9c2e2aeb-8020-4176-bb0b-a28f0ee51a9e",
   "metadata": {},
   "source": [
    "Congrats! You've learned how to build a simple chain with output parser"
   ]
  }
 ],
 "metadata": {
  "kernelspec": {
   "display_name": "Python 3 (ipykernel)",
   "language": "python",
   "name": "python3"
  },
  "language_info": {
   "codemirror_mode": {
    "name": "ipython",
    "version": 3
   },
   "file_extension": ".py",
   "mimetype": "text/x-python",
   "name": "python",
   "nbconvert_exporter": "python",
   "pygments_lexer": "ipython3",
   "version": "3.10.6"
  }
 },
 "nbformat": 4,
 "nbformat_minor": 5
}
