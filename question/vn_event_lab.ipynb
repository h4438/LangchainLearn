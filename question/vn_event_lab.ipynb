{
 "cells": [
  {
   "cell_type": "markdown",
   "id": "f6159150-45ae-4d07-88e0-86aac74d52a8",
   "metadata": {},
   "source": [
    "# Make Vietnamse questions with full VN prompt"
   ]
  },
  {
   "cell_type": "code",
   "execution_count": null,
   "id": "3d6edcfd-ce1e-47a8-97d5-d5823b658bb1",
   "metadata": {},
   "outputs": [],
   "source": [
    "MAKE_QUESTION_TEMPLATE = \"\"\"Given a paragraph delimited in triple backquotes\n",
    "    ```\n",
    "    {fact}\n",
    "    ```\n",
    "    Please give a pair of Vietnamese question and a correct answer for each category listed down below:\n",
    "    1. \"What happened?\" question.\n",
    "    2. \"When did it happen?\" question.\n",
    "    3. \"Where did it happen?\" question.\n",
    "    4. \"Who was involved?\" question.\n",
    "    5. \"Why did it happen?\" question.\n",
    "    6. \"What were the consequences of the event?\" question.\n",
    "    7. \"What else it is called?\" question.\n",
    "\n",
    "    Your output should be a list and each element should follow the format delimited by triple backquotes.\n",
    "    ```\n",
    "    Q: <question>\n",
    "    A: <correct_answer>\n",
    "    ```Biểu tình Mường Nhé 2011 là một cuộc biểu tình của 7.000 người H'Mông xảy ra vào tháng 5 năm 2011 ở huyện Mường Nhé thuộc tỉnh Điện Biên tại Việt Nam.\n",
    "Bối cảnh\n",
    "Thành lập năm 2002 theo Nghị định số 08/NĐ-CP củ\n",
    " \"\"\"\n"
   ]
  },
  {
   "cell_type": "code",
   "execution_count": 1,
   "id": "54fbd7fb-ce8d-4173-b51b-194c3cbc1be9",
   "metadata": {},
   "outputs": [
    {
     "name": "stdout",
     "output_type": "stream",
     "text": [
      "Enable tracing at test-deploy\n",
      "OPENAI ready\n"
     ]
    },
    {
     "name": "stderr",
     "output_type": "stream",
     "text": [
      "/home/h4438/.local/lib/python3.10/site-packages/langchain/llms/openai.py:179: UserWarning: You are trying to use a chat model. This way of initializing it is no longer supported. Instead, please use: `from langchain.chat_models import ChatOpenAI`\n",
      "  warnings.warn(\n",
      "/home/h4438/.local/lib/python3.10/site-packages/langchain/llms/openai.py:753: UserWarning: You are trying to use a chat model. This way of initializing it is no longer supported. Instead, please use: `from langchain.chat_models import ChatOpenAI`\n",
      "  warnings.warn(\n"
     ]
    }
   ],
   "source": [
    "import sys\n",
    "import os\n",
    "sys.path.append('../')\n",
    "# sys.path.append(f\"{os.path.dirname(__file__)}/../\")\n",
    "from langchain import LLMChain\n",
    "from langchain.prompts import PromptTemplate\n",
    "from botcore.setup import trace_openai\n",
    "\n",
    "MAKE_QUESTION_TEMPLATE = \"\"\"Given a paragraph delimited in triple backquotes\n",
    "    ```\n",
    "    {fact}\n",
    "    ```\n",
    "    Please give a triple of Vietnamese question, a correct answer and a almost correct answer for each information in the given paragraph.\n",
    "    Your output should be a list and each element should follow the format delimited by triple backquotes.\n",
    "    ```\n",
    "    Q: <question>\n",
    "    A: <correct_answer>\n",
    "    W: <an_almost_correct_answer_but_actually_wrong>\n",
    "    ```\n",
    "    Output:\"\"\"\n",
    "\n",
    "model = trace_openai(max_tokens = 1000, temp = 0.0)\n",
    "inputs = ['fact']\n",
    "prompt = PromptTemplate(input_variables = inputs, template = MAKE_QUESTION_TEMPLATE)\n",
    "chain = LLMChain(llm = model, prompt = prompt, output_key='result', verbose=True)"
   ]
  },
  {
   "cell_type": "code",
   "execution_count": 2,
   "id": "a6fae72b-a4da-4b26-a8c1-0ba7d8bab3e0",
   "metadata": {},
   "outputs": [],
   "source": [
    "fact = \"\"\"Thành lập năm 2002 theo Nghị định số 08/NĐ-CP của Chính phủ Việt Nam, Mường Nhé là phần gộp lại của sáu xã trước thuộc huyện Mường Tè tỉnh Lai Châu và huyện Mường Lay tỉnh Điện Biên. Huyện Mường Nhé được chính quyền coi là huyện thuộc \"vùng sâu, vùng xa, vùng đặc biệt khó khăn\" với hơn 52.684 nhân khẩu, trong đó người H'Mông chiếm đa số với 36.811 nhân khẩu (chiếm 69,6%).[1]\n",
    "\n",
    "Vấn đề tuyên truyền, thành lập \"nhà nước Mông\" trên địa bàn các tỉnh vùng cao, đặc biệt tại huyện Mường Nhé, tỉnh Điện Biên manh nha xuất hiện từ những năm 2003, 2004, sau đó nhanh chóng lan rộng ra toàn huyện. Từ năm 2005 xuất hiện một số đối tượng cầm đầu tuyên truyền thành lập nhà nước Mông, như Sùng Vả Mình, Hờ Tủa Mình. Năm 2007, Sùng A Sài bị bắt vì hoạt động tích cực tuyên truyền lập \"Vương quốc Mông\" tại xã Huổi Lếch. Năm 2009, xuất hiện 2 nhóm tuyên truyền thành lập Nhà nước Mông riêng biệt là nhóm Vàng A Ía và nhóm Tráng A Chớ.\n",
    "\n",
    "Trong điều kiện đó, nhiều người vì mê tín nên đã đi tìm một niềm tin mới - gián tiếp cho sự ra đời của đạo Vàng Chứ, một đạo thuyết cho rằng những người sống trên trần gian sẽ đối diện với \"ngày tận thế\" vào ngày 21 tháng 5 cùng năm và sau khi chết họ sẽ được các vua H'Mông đưa đến một \"Miền Đất Hứa\" và việc xưng Vua riêng cho người Mông, lập nên một vùng tự trị tại đây\"\"\""
   ]
  },
  {
   "cell_type": "code",
   "execution_count": 3,
   "id": "612a0b52-3729-4374-8281-f18c4a1e0de1",
   "metadata": {},
   "outputs": [
    {
     "name": "stdout",
     "output_type": "stream",
     "text": [
      "\n",
      "\n",
      "\u001b[1m> Entering new  chain...\u001b[0m\n",
      "Prompt after formatting:\n",
      "\u001b[32;1m\u001b[1;3mGiven a paragraph delimited in triple backquotes\n",
      "    ```\n",
      "    Thành lập năm 2002 theo Nghị định số 08/NĐ-CP của Chính phủ Việt Nam, Mường Nhé là phần gộp lại của sáu xã trước thuộc huyện Mường Tè tỉnh Lai Châu và huyện Mường Lay tỉnh Điện Biên. Huyện Mường Nhé được chính quyền coi là huyện thuộc \"vùng sâu, vùng xa, vùng đặc biệt khó khăn\" với hơn 52.684 nhân khẩu, trong đó người H'Mông chiếm đa số với 36.811 nhân khẩu (chiếm 69,6%).[1]\n",
      "\n",
      "Vấn đề tuyên truyền, thành lập \"nhà nước Mông\" trên địa bàn các tỉnh vùng cao, đặc biệt tại huyện Mường Nhé, tỉnh Điện Biên manh nha xuất hiện từ những năm 2003, 2004, sau đó nhanh chóng lan rộng ra toàn huyện. Từ năm 2005 xuất hiện một số đối tượng cầm đầu tuyên truyền thành lập nhà nước Mông, như Sùng Vả Mình, Hờ Tủa Mình. Năm 2007, Sùng A Sài bị bắt vì hoạt động tích cực tuyên truyền lập \"Vương quốc Mông\" tại xã Huổi Lếch. Năm 2009, xuất hiện 2 nhóm tuyên truyền thành lập Nhà nước Mông riêng biệt là nhóm Vàng A Ía và nhóm Tráng A Chớ.\n",
      "\n",
      "Trong điều kiện đó, nhiều người vì mê tín nên đã đi tìm một niềm tin mới - gián tiếp cho sự ra đời của đạo Vàng Chứ, một đạo thuyết cho rằng những người sống trên trần gian sẽ đối diện với \"ngày tận thế\" vào ngày 21 tháng 5 cùng năm và sau khi chết họ sẽ được các vua H'Mông đưa đến một \"Miền Đất Hứa\" và việc xưng Vua riêng cho người Mông, lập nên một vùng tự trị tại đây\n",
      "    ```\n",
      "    Please give a triple of Vietnamese question, a correct answer and a almost correct answer for each information in the given paragraph.\n",
      "    Your output should be a list and each element should follow the format delimited by triple backquotes.\n",
      "    ```\n",
      "    Q: <question>\n",
      "    A: <correct_answer>\n",
      "    W: <an_almost_correct_answer_but_actually_wrong>\n",
      "    ```\n",
      "    Output:\u001b[0m\n",
      "\n",
      "\u001b[1m> Finished chain.\u001b[0m\n"
     ]
    },
    {
     "data": {
      "text/plain": [
       "{'fact': 'Thành lập năm 2002 theo Nghị định số 08/NĐ-CP của Chính phủ Việt Nam, Mường Nhé là phần gộp lại của sáu xã trước thuộc huyện Mường Tè tỉnh Lai Châu và huyện Mường Lay tỉnh Điện Biên. Huyện Mường Nhé được chính quyền coi là huyện thuộc \"vùng sâu, vùng xa, vùng đặc biệt khó khăn\" với hơn 52.684 nhân khẩu, trong đó người H\\'Mông chiếm đa số với 36.811 nhân khẩu (chiếm 69,6%).[1]\\n\\nVấn đề tuyên truyền, thành lập \"nhà nước Mông\" trên địa bàn các tỉnh vùng cao, đặc biệt tại huyện Mường Nhé, tỉnh Điện Biên manh nha xuất hiện từ những năm 2003, 2004, sau đó nhanh chóng lan rộng ra toàn huyện. Từ năm 2005 xuất hiện một số đối tượng cầm đầu tuyên truyền thành lập nhà nước Mông, như Sùng Vả Mình, Hờ Tủa Mình. Năm 2007, Sùng A Sài bị bắt vì hoạt động tích cực tuyên truyền lập \"Vương quốc Mông\" tại xã Huổi Lếch. Năm 2009, xuất hiện 2 nhóm tuyên truyền thành lập Nhà nước Mông riêng biệt là nhóm Vàng A Ía và nhóm Tráng A Chớ.\\n\\nTrong điều kiện đó, nhiều người vì mê tín nên đã đi tìm một niềm tin mới - gián tiếp cho sự ra đời của đạo Vàng Chứ, một đạo thuyết cho rằng những người sống trên trần gian sẽ đối diện với \"ngày tận thế\" vào ngày 21 tháng 5 cùng năm và sau khi chết họ sẽ được các vua H\\'Mông đưa đến một \"Miền Đất Hứa\" và việc xưng Vua riêng cho người Mông, lập nên một vùng tự trị tại đây',\n",
       " 'result': '```\\nQ: Huyện Mường Nhé được thành lập vào năm nào?\\nA: Năm 2002\\nW: Năm 2005\\n\\nQ: Huyện Mường Nhé thuộc tỉnh nào?\\nA: Tỉnh Điện Biên\\nW: Tỉnh Lai Châu\\n\\nQ: Dân số của huyện Mường Nhé là bao nhiêu?\\nA: 52.684 nhân khẩu\\nW: 36.811 nhân khẩu\\n\\nQ: Dân tộc nào chiếm đa số ở huyện Mường Nhé?\\nA: Người H\\'Mông\\nW: Người Thái\\n\\nQ: Khi nào xuất hiện vấn đề tuyên truyền thành lập \"nhà nước Mông\"?\\nA: Từ những năm 2003, 2004\\nW: Từ năm 2007\\n\\nQ: Ai là người bị bắt vì hoạt động tuyên truyền lập \"Vương quốc Mông\"?\\nA: Sùng A Sài\\nW: Sùng Vả Mình\\n\\nQ: Xuất hiện nhóm tuyên truyền thành lập Nhà nước Mông riêng biệt vào năm nào?\\nA: Năm 2009\\nW: Năm 2007\\n\\nQ: Đạo thuyết Vàng Chứ cho rằng ngày tận thế sẽ xảy ra vào ngày nào?\\nA: Ngày 21 tháng 5\\nW: Ngày 1 tháng 5\\n\\nQ: Người Mông tin rằng sau khi chết, họ sẽ được đưa đến đâu?\\nA: Một \"Miền Đất Hứa\"\\nW: Một \"Miền Đất Mới\"\\n```'}"
      ]
     },
     "execution_count": 3,
     "metadata": {},
     "output_type": "execute_result"
    }
   ],
   "source": [
    "ans = chain({'fact': fact})\n",
    "ans"
   ]
  }
 ],
 "metadata": {
  "kernelspec": {
   "display_name": "Python 3 (ipykernel)",
   "language": "python",
   "name": "python3"
  },
  "language_info": {
   "codemirror_mode": {
    "name": "ipython",
    "version": 3
   },
   "file_extension": ".py",
   "mimetype": "text/x-python",
   "name": "python",
   "nbconvert_exporter": "python",
   "pygments_lexer": "ipython3",
   "version": "3.10.6"
  }
 },
 "nbformat": 4,
 "nbformat_minor": 5
}
