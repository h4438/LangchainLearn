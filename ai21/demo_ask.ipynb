{
 "cells": [
  {
   "cell_type": "markdown",
   "id": "70904341-f39b-4626-a35b-9828bcb791cc",
   "metadata": {},
   "source": [
    "# A working demo for asking user \n",
    "1. we ask the condition\n",
    "2. we ask the feature\n",
    "3. we build html\n",
    "4. let user interact\n",
    "5. load data to memory || do search\n",
    "6. "
   ]
  },
  {
   "cell_type": "code",
   "execution_count": null,
   "id": "3ca69f4e-09ec-4bab-aa1b-ef540f682e98",
   "metadata": {},
   "outputs": [],
   "source": []
  }
 ],
 "metadata": {
  "kernelspec": {
   "display_name": "Python 3 (ipykernel)",
   "language": "python",
   "name": "python3"
  },
  "language_info": {
   "codemirror_mode": {
    "name": "ipython",
    "version": 3
   },
   "file_extension": ".py",
   "mimetype": "text/x-python",
   "name": "python",
   "nbconvert_exporter": "python",
   "pygments_lexer": "ipython3",
   "version": "3.10.6"
  }
 },
 "nbformat": 4,
 "nbformat_minor": 5
}
