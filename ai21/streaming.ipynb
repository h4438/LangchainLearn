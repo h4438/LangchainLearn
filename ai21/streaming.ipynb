{
 "cells": [
  {
   "cell_type": "markdown",
   "id": "e1a4ebe6-5efa-4bf0-8ca7-4907d9855da9",
   "metadata": {},
   "source": [
    "# Asking questions chain"
   ]
  },
  {
   "cell_type": "code",
   "execution_count": 2,
   "id": "0a8125c0-f4f4-4608-b6fb-0a580fcde50c",
   "metadata": {},
   "outputs": [
    {
     "name": "stdout",
     "output_type": "stream",
     "text": [
      "Enable tracing at asking\n",
      "AI21 ready\n"
     ]
    }
   ],
   "source": [
    "import sys\n",
    "sys.path.append('../')\n",
    "from setup import trace_ai21\n",
    "\n",
    "MODEL = trace_ai21(\"asking\")"
   ]
  },
  {
   "cell_type": "markdown",
   "id": "880c7787-da3a-477c-b2fe-b74c5798b116",
   "metadata": {},
   "source": [
    "# Learn\n",
    "1. Given {product}, please list out the features associate with this product. -> List out unnecessary features\n",
    "2. As a {role}, please list out all associated features for {product}. -> Better but risky at electronics\n",
    "3. Given a scenario. As a {role}, list out features which are easy to answer -> Closely to normal customer "
   ]
  },
  {
   "cell_type": "code",
   "execution_count": 11,
   "id": "ed7d21f6-0725-4388-9b2f-17fe9f1986ba",
   "metadata": {},
   "outputs": [
    {
     "data": {
      "text/plain": [
       "'\\n* Color\\n* Size\\n* Material\\n* Brand\\n* Condition\\n* Price'"
      ]
     },
     "execution_count": 11,
     "metadata": {},
     "output_type": "execute_result"
    }
   ],
   "source": [
    "q = \"\"\"A person is trying to sell you a second-hand product. As a normal user, you will neeed to list out associated features of that product.\n",
    "Theese features should be easy to answer for a normal user.\n",
    "Product: a shirt\n",
    "Features:\"\"\"\n",
    "\n",
    "ans = MODEL(q)\n",
    "ans"
   ]
  },
  {
   "cell_type": "markdown",
   "id": "eb6360c2-3526-4952-8c41-f73ddf4e9914",
   "metadata": {},
   "source": [
    "## templates"
   ]
  },
  {
   "cell_type": "code",
   "execution_count": null,
   "id": "5c5e483f-bbc5-44fe-80a3-5c416085361b",
   "metadata": {},
   "outputs": [],
   "source": [
    "learn2 = \"\"\" You are a retailer. Please list out the associated features with the given product.\n",
    "These features should be highly relating to your job.\n",
    "The given product: a Tivi\n",
    "Associated features:\"\"\"\n",
    "\n",
    "learn3 = \"\"\"A person is trying to sell you a second-hand product. As a normal user, you will neeed to list out associated features of that product.\n",
    "Theese features should be easy to answer for a normal user.\n",
    "Product: a shirt\n",
    "Features:\"\"\"\n",
    "\n"
   ]
  }
 ],
 "metadata": {
  "kernelspec": {
   "display_name": "Python 3 (ipykernel)",
   "language": "python",
   "name": "python3"
  },
  "language_info": {
   "codemirror_mode": {
    "name": "ipython",
    "version": 3
   },
   "file_extension": ".py",
   "mimetype": "text/x-python",
   "name": "python",
   "nbconvert_exporter": "python",
   "pygments_lexer": "ipython3",
   "version": "3.10.6"
  }
 },
 "nbformat": 4,
 "nbformat_minor": 5
}
