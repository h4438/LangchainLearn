{
 "cells": [
  {
   "cell_type": "markdown",
   "id": "cff56e1d-7f15-43d0-99e0-7080347598d2",
   "metadata": {},
   "source": [
    "# Chat image description"
   ]
  },
  {
   "cell_type": "code",
   "execution_count": 1,
   "id": "2db398e8-04d9-4360-893f-9f46fb92439f",
   "metadata": {},
   "outputs": [
    {
     "name": "stdout",
     "output_type": "stream",
     "text": [
      "OPENAI ready\n",
      "Enable tracing at text_blob\n"
     ]
    },
    {
     "data": {
      "text/plain": [
       "True"
      ]
     },
     "execution_count": 1,
     "metadata": {},
     "output_type": "execute_result"
    }
   ],
   "source": [
    "from setup import get_openai_model, enable_tracing\n",
    "MODEL = get_openai_model()\n",
    "enable_tracing(\"text_blob\")"
   ]
  },
  {
   "cell_type": "code",
   "execution_count": null,
   "id": "cae0eb5a-ee8f-4a15-a773-1b0e34a9338c",
   "metadata": {},
   "outputs": [],
   "source": [
    "hobbit = \"\"\"The Hobbit is a series of three epic high fantasy adventure films directed by Peter Jackson.\n",
    "The films are subtitled An Unexpected Journey (2012), The Desolation of Smaug (2013), and The Battle of the Five Armies (2014).\n",
    "The films are based on the 1937 novel The Hobbit by J. R. R. Tolkien, with large portions of the trilogy inspired by the appendices to The Return of the King,which expand on the story told in The Hobbit, as well as new material and characters written especially for the films.\n",
    "Together they act as a prequel to Jackson's The Lord of the Rings film trilogy.\"\"\""
   ]
  },
  {
   "cell_type": "code",
   "execution_count": 16,
   "id": "b68e584f-fcbc-46af-9fbb-5da389f71a24",
   "metadata": {},
   "outputs": [],
   "source": [
    "showgirl=\"\"\"Showgirls is a 1995 erotic drama thriller film directed by Paul Verhoeven from a script written by Joe Eszterhas and starring Elizabeth Berkley, Kyle MacLachlan, Gina Gershon, Glenn Plummer, Robert Davi, Alan Rachins and Gina Ravera.\n",
    "\n",
    "Produced on a then-sizable budget around $45 million, significant controversy and hype surrounding the film's amounts of sex and nudity preceded its theatrical release. In the United States, the film was rated NC-17 for \"nudity and erotic sexuality throughout, some graphic language, and sexual violence.\" Showgirls was the first (and to date only) NC-17-rated film to be given a wide release in mainstream theaters.[6] Distributor Metro-Goldwyn-Mayer dispatched several hundred staffers to theaters across North America playing Showgirls to ensure that patrons would not sneak into the theater from other films, and to make sure film-goers were over the age of 17. Audience restriction due to the NC-17 rating, coupled with poor reviews, resulted in the film becoming a box-office bomb, grossing just $37 million.\n",
    "\n",
    "Despite a negative theatrical and critical consensus, Showgirls enjoyed success on the home video market, generating more than $100 million from video rentals, allowing the film to turn a profit[9][10] and became one of MGM's top-20 all-time bestsellers.[11] For its video premiere, Verhoeven prepared an R-rated cut for rental outlets that would not carry NC-17 films. This edited version runs 3 minutes shorter (128 minutes) and deletes some of the more graphic footage. Showgirls was a critical failure upon release, panned for its acting (particularly Berkley's), characters, dance numbers, directing, plot, screenplay and sex scenes and consistently ranked as one of the worst films ever made. Despite this, Showgirls has become regarded as a cult film and has been subject to critical re-evaluation, with some notable directors and critics considering it a serious satire worthy of praise.[12]  \"\"\""
   ]
  },
  {
   "cell_type": "markdown",
   "id": "932bbea9-56a4-4c56-8d94-1025b007db44",
   "metadata": {},
   "source": [
    "# Test"
   ]
  },
  {
   "cell_type": "code",
   "execution_count": 17,
   "id": "a3104168-379c-4a2a-b28d-23a6805f4a64",
   "metadata": {},
   "outputs": [],
   "source": [
    "template = \"\"\"You are a chatbot having a conversation with a human.\n",
    "\n",
    "{chat_history}\n",
    "Human: {human_input}\n",
    "Chatbot:\"\"\"\n",
    "\n",
    "prompt = PromptTemplate(\n",
    "    input_variables=[\"chat_history\", \"human_input\"], template=template\n",
    ")\n",
    "memory = ConversationBufferMemory(memory_key=\"chat_history\")\n",
    "memory.chat_memory.add_user_message(\"This is what I have read recently\")\n",
    "memory.chat_memory.add_user_message(showgirl)\n",
    "\n",
    "llm_chain = LLMChain(\n",
    "    llm=MODEL,\n",
    "    prompt=prompt,\n",
    "    verbose=True,\n",
    "    memory=memory,\n",
    ")"
   ]
  },
  {
   "cell_type": "code",
   "execution_count": 10,
   "id": "8da72fac-4bcb-4adf-83d5-c35d6bff47fa",
   "metadata": {},
   "outputs": [
    {
     "name": "stdout",
     "output_type": "stream",
     "text": [
      "\n",
      "\n",
      "\u001b[1m> Entering new  chain...\u001b[0m\n",
      "Prompt after formatting:\n",
      "\u001b[32;1m\u001b[1;3mYou are a chatbot having a conversation with a human.\n",
      "\n",
      "Human: This is what I have read recently\n",
      "Human: The Hobbit is a series of three epic high fantasy adventure films directed by Peter Jackson.\n",
      "The films are subtitled An Unexpected Journey (2012), The Desolation of Smaug (2013), and The Battle of the Five Armies (2014).\n",
      "The films are based on the 1937 novel The Hobbit by J. R. R. Tolkien, with large portions of the trilogy inspired by the appendices to The Return of the King,which expand on the story told in The Hobbit, as well as new material and characters written especially for the films.\n",
      "Together they act as a prequel to Jackson's The Lord of the Rings film trilogy.\n",
      "Human: What do you think about the content I read recently.\n",
      "Chatbot:\u001b[0m\n",
      "\n",
      "\u001b[1m> Finished chain.\u001b[0m\n"
     ]
    },
    {
     "data": {
      "text/plain": [
       "{'human_input': 'What do you think about the content I read recently.',\n",
       " 'chat_history': \"Human: This is what I have read recently\\nHuman: The Hobbit is a series of three epic high fantasy adventure films directed by Peter Jackson.\\nThe films are subtitled An Unexpected Journey (2012), The Desolation of Smaug (2013), and The Battle of the Five Armies (2014).\\nThe films are based on the 1937 novel The Hobbit by J. R. R. Tolkien, with large portions of the trilogy inspired by the appendices to The Return of the King,which expand on the story told in The Hobbit, as well as new material and characters written especially for the films.\\nTogether they act as a prequel to Jackson's The Lord of the Rings film trilogy.\",\n",
       " 'text': \" I think it sounds like an amazing series of films! It's great that they were based on J.R.R. Tolkien's novel and that they expanded on the story with new material and characters. It must have been a great experience to watch the trilogy unfold.\"}"
      ]
     },
     "execution_count": 10,
     "metadata": {},
     "output_type": "execute_result"
    }
   ],
   "source": [
    "ans = llm_chain({\"human_input\": \"What do you think about the content I read recently.\"})\n",
    "ans"
   ]
  },
  {
   "cell_type": "markdown",
   "id": "90c4bb4c-4d08-4760-b4ea-e00e1c02e7ff",
   "metadata": {},
   "source": [
    "# Chain content"
   ]
  },
  {
   "cell_type": "code",
   "execution_count": 21,
   "id": "f33b7780-d887-4a6f-82bd-bd753d39fca3",
   "metadata": {},
   "outputs": [
    {
     "name": "stdout",
     "output_type": "stream",
     "text": [
      "OPENAI ready\n",
      "Enable tracing at text_blob\n"
     ]
    }
   ],
   "source": [
    "from langchain.output_parsers import StructuredOutputParser, ResponseSchema\n",
    "from langchain.prompts import PromptTemplate\n",
    "from langchain import LLMChain\n",
    "import sys\n",
    "sys.path.append(\"../src\")\n",
    "from setup import get_openai_model, enable_tracing\n",
    "from langchain.memory import ConversationBufferMemory\n",
    "\n",
    "MODEL = get_openai_model()\n",
    "enable_tracing(\"text_blob\")\n",
    "\n",
    "# define the output\n",
    "response_schemas = [\n",
    "    ResponseSchema(name=\"sentiment\", description=\"a sentiment label based on the past content. It should be either Negative or Positive\"),\n",
    "    ResponseSchema(name=\"idea\", description=\"\"\"\n",
    "    If the sentiment is Negative then return the reason why the user shouldn't be interested in this content, along with its danger.\n",
    "    If the sentiment is Positive then return the encouragement to make the user interest in this content even more, along with other relevant content.\n",
    "    For Neutral then return a instruct for a better content. \n",
    "    \"\"\"),\n",
    "]\n",
    "output_parser = StructuredOutputParser.from_response_schemas(response_schemas)\n",
    "# prompt template\n",
    "template = \"\"\"You are good at detecting harmful, content and also encouraging good and useful one. All labels that you know are Negative and Positive.\n",
    "Given a past content, your job is to answer as best as possible.\n",
    "The past content:\n",
    "{chat_history}\n",
    "\n",
    "Instructions:\n",
    "{format_instructions}\n",
    "The question: {question}.\"\"\"\n",
    "\n",
    "format_instructions = output_parser.get_format_instructions()\n",
    "prompt = PromptTemplate(template=template, input_variables=[\"chat_history\", \"question\"],\n",
    "                        partial_variables={\"format_instructions\": format_instructions})\n",
    "\n",
    "memory = ConversationBufferMemory(memory_key=\"chat_history\")\n",
    "memory.chat_memory.add_user_message(\"This is what I have read recently\")\n",
    "memory.chat_memory.add_user_message(showgirl)\n",
    "# Build chain\n",
    "sentiment_chain = LLMChain(llm=MODEL, prompt=prompt, verbose=True, memory=memory, output_key='result')"
   ]
  },
  {
   "cell_type": "code",
   "execution_count": 22,
   "id": "0fe56339-0190-4625-9cbf-7cb750298d00",
   "metadata": {},
   "outputs": [
    {
     "name": "stdout",
     "output_type": "stream",
     "text": [
      "\n",
      "\n",
      "\u001b[1m> Entering new  chain...\u001b[0m\n",
      "Prompt after formatting:\n",
      "\u001b[32;1m\u001b[1;3mYou are good at detecting harmful, content and also encouraging good and useful one. All labels that you know are Negative and Positive.\n",
      "Given a past content, your job is to answer as best as possible.\n",
      "The past content:\n",
      "Human: This is what I have read recently\n",
      "Human: Showgirls is a 1995 erotic drama thriller film directed by Paul Verhoeven from a script written by Joe Eszterhas and starring Elizabeth Berkley, Kyle MacLachlan, Gina Gershon, Glenn Plummer, Robert Davi, Alan Rachins and Gina Ravera.\n",
      "\n",
      "Produced on a then-sizable budget around $45 million, significant controversy and hype surrounding the film's amounts of sex and nudity preceded its theatrical release. In the United States, the film was rated NC-17 for \"nudity and erotic sexuality throughout, some graphic language, and sexual violence.\" Showgirls was the first (and to date only) NC-17-rated film to be given a wide release in mainstream theaters.[6] Distributor Metro-Goldwyn-Mayer dispatched several hundred staffers to theaters across North America playing Showgirls to ensure that patrons would not sneak into the theater from other films, and to make sure film-goers were over the age of 17. Audience restriction due to the NC-17 rating, coupled with poor reviews, resulted in the film becoming a box-office bomb, grossing just $37 million.\n",
      "\n",
      "Despite a negative theatrical and critical consensus, Showgirls enjoyed success on the home video market, generating more than $100 million from video rentals, allowing the film to turn a profit[9][10] and became one of MGM's top-20 all-time bestsellers.[11] For its video premiere, Verhoeven prepared an R-rated cut for rental outlets that would not carry NC-17 films. This edited version runs 3 minutes shorter (128 minutes) and deletes some of the more graphic footage. Showgirls was a critical failure upon release, panned for its acting (particularly Berkley's), characters, dance numbers, directing, plot, screenplay and sex scenes and consistently ranked as one of the worst films ever made. Despite this, Showgirls has become regarded as a cult film and has been subject to critical re-evaluation, with some notable directors and critics considering it a serious satire worthy of praise.[12]  \n",
      "\n",
      "Instructions:\n",
      "The output should be a markdown code snippet formatted in the following schema, including the leading and trailing \"```json\" and \"```\":\n",
      "\n",
      "```json\n",
      "{\n",
      "\t\"sentiment\": string  // a sentiment label based on the given content. It should be either Negative or Positive\n",
      "\t\"idea\": string  // \n",
      "    If the sentiment is Negative then return the reason why the user shouldn't be interested in this content along with its danger.\n",
      "    If the sentiment is Positive then return the encouragement to make the user interest in this content even more along with other relevant content.\n",
      "    For Neutral then return a instruct for a better content. \n",
      "    \n",
      "}\n",
      "```\n",
      "The question: What do you think about the past content.\u001b[0m\n",
      "\n",
      "\u001b[1m> Finished chain.\u001b[0m\n"
     ]
    },
    {
     "data": {
      "text/plain": [
       "{'question': 'What do you think about the past content',\n",
       " 'chat_history': 'Human: This is what I have read recently\\nHuman: Showgirls is a 1995 erotic drama thriller film directed by Paul Verhoeven from a script written by Joe Eszterhas and starring Elizabeth Berkley, Kyle MacLachlan, Gina Gershon, Glenn Plummer, Robert Davi, Alan Rachins and Gina Ravera.\\n\\nProduced on a then-sizable budget around $45 million, significant controversy and hype surrounding the film\\'s amounts of sex and nudity preceded its theatrical release. In the United States, the film was rated NC-17 for \"nudity and erotic sexuality throughout, some graphic language, and sexual violence.\" Showgirls was the first (and to date only) NC-17-rated film to be given a wide release in mainstream theaters.[6] Distributor Metro-Goldwyn-Mayer dispatched several hundred staffers to theaters across North America playing Showgirls to ensure that patrons would not sneak into the theater from other films, and to make sure film-goers were over the age of 17. Audience restriction due to the NC-17 rating, coupled with poor reviews, resulted in the film becoming a box-office bomb, grossing just $37 million.\\n\\nDespite a negative theatrical and critical consensus, Showgirls enjoyed success on the home video market, generating more than $100 million from video rentals, allowing the film to turn a profit[9][10] and became one of MGM\\'s top-20 all-time bestsellers.[11] For its video premiere, Verhoeven prepared an R-rated cut for rental outlets that would not carry NC-17 films. This edited version runs 3 minutes shorter (128 minutes) and deletes some of the more graphic footage. Showgirls was a critical failure upon release, panned for its acting (particularly Berkley\\'s), characters, dance numbers, directing, plot, screenplay and sex scenes and consistently ranked as one of the worst films ever made. Despite this, Showgirls has become regarded as a cult film and has been subject to critical re-evaluation, with some notable directors and critics considering it a serious satire worthy of praise.[12]  ',\n",
       " 'text': '\\n\\nAnswer:\\n```json\\n{\\n\\t\"sentiment\": \"Negative\",\\n\\t\"idea\": \"Showgirls has been subject to critical re-evaluation, but it is still widely considered to be one of the worst films ever made. It contains graphic language, nudity, and sexual violence, and is rated NC-17. It is not suitable for children or those who are easily offended.\"\\n}\\n```'}"
      ]
     },
     "execution_count": 22,
     "metadata": {},
     "output_type": "execute_result"
    }
   ],
   "source": [
    "ans = sentiment_chain({\"question\": \"What do you think about the past content\"})\n",
    "ans"
   ]
  },
  {
   "cell_type": "markdown",
   "id": "f0b4c501-71aa-4294-859a-3e506ff1e097",
   "metadata": {},
   "source": [
    "# Chain message"
   ]
  },
  {
   "cell_type": "code",
   "execution_count": 2,
   "id": "07cefe3e-9657-4298-a996-cc9fec1ec218",
   "metadata": {},
   "outputs": [],
   "source": [
    "from langchain.output_parsers import StructuredOutputParser, ResponseSchema\n",
    "from langchain.prompts import PromptTemplate\n",
    "from langchain import LLMChain\n",
    "import sys\n",
    "sys.path.append(\"../src\")\n",
    "from setup import get_openai_model, enable_tracing\n",
    "from langchain.memory import ConversationBufferMemory\n",
    "\n",
    "\n",
    "# define the output\n",
    "response_schemas = [\n",
    "    ResponseSchema(name=\"sentiment\", description=\"a sentiment label based on the past content. It should be either Negative or Positive\"),\n",
    "    ResponseSchema(name=\"ideas\", description=\"a js array of response options to the given content. These options must help the user to feel better.\")\n",
    "]\n",
    "output_parser = StructuredOutputParser.from_response_schemas(response_schemas)\n",
    "# prompt template\n",
    "template = \"\"\"You are good at detecting harmful, content and also encouraging good and useful one. All labels that you know are Negative and Positive.\n",
    "Given a past content, your job is to answer as best as possible.\n",
    "The past content:\n",
    "{chat_history}\n",
    "\n",
    "Instructions:\n",
    "{format_instructions}\n",
    "The question: {question}.\"\"\"\n",
    "\n",
    "format_instructions = output_parser.get_format_instructions()\n",
    "prompt = PromptTemplate(template=template, input_variables=[\"chat_history\", \"question\"],\n",
    "                        partial_variables={\"format_instructions\": format_instructions})\n",
    "\n",
    "memory = ConversationBufferMemory(memory_key=\"chat_history\")\n",
    "memory.chat_memory.add_user_message(\"This is what I have read recently: \")\n",
    "memory.chat_memory.add_user_message(\"I hate you. You are so ugly!\")\n",
    "# Build chain\n",
    "message_chain = LLMChain(llm=MODEL, prompt=prompt, verbose=True, memory=memory, output_key='result')"
   ]
  },
  {
   "cell_type": "code",
   "execution_count": 3,
   "id": "11892ce6-d1ef-4ed1-80f9-9436de5e1394",
   "metadata": {},
   "outputs": [
    {
     "name": "stdout",
     "output_type": "stream",
     "text": [
      "\n",
      "\n",
      "\u001b[1m> Entering new  chain...\u001b[0m\n",
      "Prompt after formatting:\n",
      "\u001b[32;1m\u001b[1;3mYou are good at detecting harmful, content and also encouraging good and useful one. All labels that you know are Negative and Positive.\n",
      "Given a past content, your job is to answer as best as possible.\n",
      "The past content:\n",
      "Human: This is what I have read recently: \n",
      "Human: I hate you. You are so ugly!\n",
      "\n",
      "Instructions:\n",
      "The output should be a markdown code snippet formatted in the following schema, including the leading and trailing \"```json\" and \"```\":\n",
      "\n",
      "```json\n",
      "{\n",
      "\t\"sentiment\": string  // a sentiment label based on the past content. It should be either Negative or Positive\n",
      "\t\"ideas\": string  // a js array of response options to the given content. These options must help the user to feel better.\n",
      "}\n",
      "```\n",
      "The question: What do you think about the past content.\u001b[0m\n",
      "\n",
      "\u001b[1m> Finished chain.\u001b[0m\n"
     ]
    },
    {
     "data": {
      "text/plain": [
       "{'question': 'What do you think about the past content',\n",
       " 'chat_history': 'Human: This is what I have read recently: \\nHuman: I hate you. You are so ugly!',\n",
       " 'result': '\\n\\nAnswer:\\n```json\\n{\\n\\t\"sentiment\": \"Negative\",\\n\\t\"ideas\": [\"It\\'s ok to feel frustrated, but it\\'s not ok to express it in a hurtful way. Maybe take a few moments to think about how you can express your feelings in a more constructive way.\", \"It\\'s important to remember that everyone has their own unique beauty. Try to focus on the positive aspects of yourself and others.\"]\\n}\\n```'}"
      ]
     },
     "execution_count": 3,
     "metadata": {},
     "output_type": "execute_result"
    }
   ],
   "source": [
    "ans = message_chain({\"question\": \"What do you think about the past content\"})\n",
    "ans"
   ]
  }
 ],
 "metadata": {
  "kernelspec": {
   "display_name": "Python 3 (ipykernel)",
   "language": "python",
   "name": "python3"
  },
  "language_info": {
   "codemirror_mode": {
    "name": "ipython",
    "version": 3
   },
   "file_extension": ".py",
   "mimetype": "text/x-python",
   "name": "python",
   "nbconvert_exporter": "python",
   "pygments_lexer": "ipython3",
   "version": "3.10.6"
  }
 },
 "nbformat": 4,
 "nbformat_minor": 5
}
