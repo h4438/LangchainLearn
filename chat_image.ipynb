{
 "cells": [
  {
   "cell_type": "code",
   "execution_count": 1,
   "id": "4a7952b4-8fa6-4841-a53b-cffab1e8f7cf",
   "metadata": {},
   "outputs": [
    {
     "name": "stdout",
     "output_type": "stream",
     "text": [
      "OPENAI ready\n",
      "Enable tracing at chat_image\n"
     ]
    }
   ],
   "source": [
    "from setup import get_openai_model, enable_tracing\n",
    "from chains.content_chain  import build_content_chain\n",
    "from chains.message_chain  import build_message_chain\n",
    "\n",
    "MODEL = get_openai_model()\n",
    "enable_tracing(\"chat_image\")\n",
    "\n",
    "content_chain = build_content_chain(MODEL)\n",
    "message_chain = build_message_chain(MODEL)"
   ]
  },
  {
   "cell_type": "code",
   "execution_count": 2,
   "id": "a493862a-e06c-4343-a513-a7ddf753f4c9",
   "metadata": {},
   "outputs": [],
   "source": [
    "prompt_infos = [\n",
    "    {\n",
    "        \"name\": \"message\",\n",
    "        \"description\": \"Good for content is about human text messages\",\n",
    "        \"chain\": message_chain,\n",
    "    },\n",
    "    {\n",
    "        \"name\": \"content\",\n",
    "        \"description\": \"Good for content is about a book, a review, news,...\",\n",
    "        \"chain\": content_chain,\n",
    "    },\n",
    "]\n",
    "\n",
    "destination_chains = {}\n",
    "for p_info in prompt_infos:\n",
    "    name = p_info[\"name\"]\n",
    "    chain = p_info['chain']\n",
    "    destination_chains[name] = chain\n",
    "default_chain = destination_chains['message']"
   ]
  },
  {
   "cell_type": "code",
   "execution_count": 3,
   "id": "da109d7a-7bc8-48ca-b92c-4da556a17217",
   "metadata": {},
   "outputs": [],
   "source": [
    "from langchain.chains.router.llm_router import LLMRouterChain, RouterOutputParser\n",
    "from langchain.chains.router.multi_prompt_prompt import MULTI_PROMPT_ROUTER_TEMPLATE\n",
    "from langchain.prompts import PromptTemplate\n",
    "from langchain.chains.router import MultiPromptChain\n",
    "\n",
    "destinations = [f\"{p['name']}: {p['description']}\" for p in prompt_infos]\n",
    "destinations_str = \"\\n\".join(destinations)\n",
    "router_template = MULTI_PROMPT_ROUTER_TEMPLATE.format(destinations=destinations_str)\n",
    "router_prompt = PromptTemplate(\n",
    "    template=router_template,\n",
    "    input_variables=[\"input\"],\n",
    "    output_parser=RouterOutputParser(),\n",
    ")\n",
    "router_chain = LLMRouterChain.from_llm(MODEL, router_prompt)\n",
    "\n",
    "chain = MultiPromptChain(\n",
    "    router_chain=router_chain,\n",
    "    destination_chains=destination_chains,\n",
    "    default_chain=default_chain,\n",
    "    verbose=True,\n",
    ")"
   ]
  },
  {
   "cell_type": "code",
   "execution_count": 9,
   "id": "cad6177e-c861-42d8-902d-901bb2d6b8ab",
   "metadata": {},
   "outputs": [
    {
     "name": "stdout",
     "output_type": "stream",
     "text": [
      "\n",
      "\n",
      "\u001b[1m> Entering new  chain...\u001b[0m\n",
      "None: {'input': \"You're so ugly, I hate you so much.\"}\n",
      "\n",
      "\u001b[1m> Entering new  chain...\u001b[0m\n",
      "Prompt after formatting:\n",
      "\u001b[32;1m\u001b[1;3mYou are good at detecting harmful, content and also encouraging good and useful one. All labels that you know are Negative and Positive. Given a past content, your job is to answer as best as possible.\n",
      "The past message:\n",
      "You're so ugly, I hate you so much.\n",
      "\n",
      "Instructions:\n",
      "The output should be a markdown code snippet formatted in the following schema, including the leading and trailing \"```json\" and \"```\":\n",
      "\n",
      "```json\n",
      "{\n",
      "\t\"sentiment\": string  // a sentiment label based on the past content. It should be either Negative or Positive\n",
      "\t\"ideas\": string  // a js array of response options to the given content. These options must help the user to feel better.\n",
      "\t\"chain\": string  // always return 'message'\n",
      "}\n",
      "```\n",
      "The question: What do you think about the message.\u001b[0m\n",
      "\n",
      "\u001b[1m> Finished chain.\u001b[0m\n",
      "\n",
      "\u001b[1m> Finished chain.\u001b[0m\n"
     ]
    },
    {
     "data": {
      "text/plain": [
       "{'input': \"You're so ugly, I hate you so much.\",\n",
       " 'text': '\\n\\n```json\\n{\\n\\t\"sentiment\": \"Negative\",\\n\\t\"ideas\": \"[\\\\\"It\\'s ok to feel this way, but it\\'s important to remember that everyone has their own unique beauty.\\\\\", \\\\\"It\\'s ok to feel this way, but it\\'s important to remember that everyone has something special about them.\\\\\", \\\\\"It\\'s ok to feel this way, but it\\'s important to remember that everyone has something to offer.\\\\\"]\",\\n\\t\"chain\": \"message\"\\n}\\n```'}"
      ]
     },
     "execution_count": 9,
     "metadata": {},
     "output_type": "execute_result"
    }
   ],
   "source": [
    "ans = chain({\"input\":\"You're so ugly, I hate you so much.\"})\n",
    "ans"
   ]
  },
  {
   "cell_type": "code",
   "execution_count": 8,
   "id": "c677bbfb-5dd3-4d25-93fd-6a42ec7012c5",
   "metadata": {},
   "outputs": [
    {
     "data": {
      "text/plain": [
       "['Config',\n",
       " '__abstractmethods__',\n",
       " '__annotations__',\n",
       " '__call__',\n",
       " '__class__',\n",
       " '__class_vars__',\n",
       " '__config__',\n",
       " '__custom_root_type__',\n",
       " '__delattr__',\n",
       " '__dict__',\n",
       " '__dir__',\n",
       " '__doc__',\n",
       " '__eq__',\n",
       " '__exclude_fields__',\n",
       " '__fields__',\n",
       " '__fields_set__',\n",
       " '__format__',\n",
       " '__ge__',\n",
       " '__get_validators__',\n",
       " '__getattribute__',\n",
       " '__getstate__',\n",
       " '__gt__',\n",
       " '__hash__',\n",
       " '__include_fields__',\n",
       " '__init__',\n",
       " '__init_subclass__',\n",
       " '__iter__',\n",
       " '__json_encoder__',\n",
       " '__le__',\n",
       " '__lt__',\n",
       " '__module__',\n",
       " '__ne__',\n",
       " '__new__',\n",
       " '__post_root_validators__',\n",
       " '__pre_root_validators__',\n",
       " '__pretty__',\n",
       " '__private_attributes__',\n",
       " '__reduce__',\n",
       " '__reduce_ex__',\n",
       " '__repr__',\n",
       " '__repr_args__',\n",
       " '__repr_name__',\n",
       " '__repr_str__',\n",
       " '__rich_repr__',\n",
       " '__schema_cache__',\n",
       " '__setattr__',\n",
       " '__setstate__',\n",
       " '__signature__',\n",
       " '__sizeof__',\n",
       " '__slots__',\n",
       " '__str__',\n",
       " '__subclasshook__',\n",
       " '__try_update_forward_refs__',\n",
       " '__validators__',\n",
       " '_abc_impl',\n",
       " '_acall',\n",
       " '_calculate_keys',\n",
       " '_call',\n",
       " '_chain_type',\n",
       " '_copy_and_set_values',\n",
       " '_decompose_class',\n",
       " '_enforce_dict_if_root',\n",
       " '_get_value',\n",
       " '_init_private_attributes',\n",
       " '_iter',\n",
       " '_validate_inputs',\n",
       " '_validate_outputs',\n",
       " 'acall',\n",
       " 'apply',\n",
       " 'arun',\n",
       " 'callback_manager',\n",
       " 'callbacks',\n",
       " 'construct',\n",
       " 'copy',\n",
       " 'default_chain',\n",
       " 'destination_chains',\n",
       " 'dict',\n",
       " 'from_orm',\n",
       " 'from_prompts',\n",
       " 'input_keys',\n",
       " 'json',\n",
       " 'lc_attributes',\n",
       " 'lc_kwargs',\n",
       " 'lc_namespace',\n",
       " 'lc_secrets',\n",
       " 'lc_serializable',\n",
       " 'memory',\n",
       " 'output_keys',\n",
       " 'parse_file',\n",
       " 'parse_obj',\n",
       " 'parse_raw',\n",
       " 'prep_inputs',\n",
       " 'prep_outputs',\n",
       " 'raise_deprecation',\n",
       " 'router_chain',\n",
       " 'run',\n",
       " 'save',\n",
       " 'schema',\n",
       " 'schema_json',\n",
       " 'set_verbose',\n",
       " 'silent_errors',\n",
       " 'tags',\n",
       " 'to_json',\n",
       " 'to_json_not_implemented',\n",
       " 'update_forward_refs',\n",
       " 'validate',\n",
       " 'verbose']"
      ]
     },
     "execution_count": 8,
     "metadata": {},
     "output_type": "execute_result"
    }
   ],
   "source": [
    "dir(chain)"
   ]
  }
 ],
 "metadata": {
  "kernelspec": {
   "display_name": "Python 3 (ipykernel)",
   "language": "python",
   "name": "python3"
  },
  "language_info": {
   "codemirror_mode": {
    "name": "ipython",
    "version": 3
   },
   "file_extension": ".py",
   "mimetype": "text/x-python",
   "name": "python",
   "nbconvert_exporter": "python",
   "pygments_lexer": "ipython3",
   "version": "3.10.6"
  }
 },
 "nbformat": 4,
 "nbformat_minor": 5
}
